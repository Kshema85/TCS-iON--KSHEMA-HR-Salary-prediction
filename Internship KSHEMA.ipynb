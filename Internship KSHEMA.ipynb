{
 "cells": [
  {
   "cell_type": "markdown",
   "id": "7091ecd7",
   "metadata": {},
   "source": [
    "# KSHEMA S\n",
    "\n",
    "TCS iON  INTERNSHIP\n",
    "RIO-125:HR Salary Dashboard - Train the Dataset and Predict Salary"
   ]
  },
  {
   "cell_type": "markdown",
   "id": "f5925b50",
   "metadata": {},
   "source": [
    "# Problem statement\n",
    "This project aims to sanitize the data, analysis and predict if an employee's salary is higher or lower than $50K/year depends on certain attributes using different ML classification algorithms."
   ]
  },
  {
   "cell_type": "markdown",
   "id": "933754c3",
   "metadata": {},
   "source": [
    "# Importing necessary libraries and dataset to the Python environment"
   ]
  },
  {
   "cell_type": "code",
   "execution_count": 1,
   "id": "e7578045",
   "metadata": {},
   "outputs": [],
   "source": [
    "# Working with data\n",
    "import numpy as np\n",
    "import pandas as pd\n",
    "\n",
    "# For Visualizations\n",
    "import matplotlib.pyplot as plt\n",
    "from matplotlib import rcParams\n",
    "import seaborn as sns\n",
    "%matplotlib inline\n",
    "\n",
    "# Ignore warnings\n",
    "import warnings\n",
    "warnings.filterwarnings('ignore')"
   ]
  },
  {
   "cell_type": "code",
   "execution_count": 2,
   "id": "dcd06710",
   "metadata": {},
   "outputs": [],
   "source": [
    "# Loading the HR dataset "
   ]
  },
  {
   "cell_type": "code",
   "execution_count": 3,
   "id": "d76d0ec7",
   "metadata": {},
   "outputs": [],
   "source": [
    "ds=pd.read_csv(r\"C:\\Users\\Anish\\Downloads\\salarydata.csv\")"
   ]
  },
  {
   "cell_type": "code",
   "execution_count": 4,
   "id": "9d2507f5",
   "metadata": {},
   "outputs": [
    {
     "data": {
      "text/html": [
       "<div>\n",
       "<style scoped>\n",
       "    .dataframe tbody tr th:only-of-type {\n",
       "        vertical-align: middle;\n",
       "    }\n",
       "\n",
       "    .dataframe tbody tr th {\n",
       "        vertical-align: top;\n",
       "    }\n",
       "\n",
       "    .dataframe thead th {\n",
       "        text-align: right;\n",
       "    }\n",
       "</style>\n",
       "<table border=\"1\" class=\"dataframe\">\n",
       "  <thead>\n",
       "    <tr style=\"text-align: right;\">\n",
       "      <th></th>\n",
       "      <th>age</th>\n",
       "      <th>workclass</th>\n",
       "      <th>education</th>\n",
       "      <th>education-num</th>\n",
       "      <th>marital-status</th>\n",
       "      <th>occupation</th>\n",
       "      <th>relationship</th>\n",
       "      <th>race</th>\n",
       "      <th>sex</th>\n",
       "      <th>capital-gain</th>\n",
       "      <th>capital-loss</th>\n",
       "      <th>hours-per-week</th>\n",
       "      <th>native-country</th>\n",
       "      <th>salary</th>\n",
       "    </tr>\n",
       "  </thead>\n",
       "  <tbody>\n",
       "    <tr>\n",
       "      <th>0</th>\n",
       "      <td>39</td>\n",
       "      <td>State-gov</td>\n",
       "      <td>Bachelors</td>\n",
       "      <td>13</td>\n",
       "      <td>Never-married</td>\n",
       "      <td>Adm-clerical</td>\n",
       "      <td>Not-in-family</td>\n",
       "      <td>White</td>\n",
       "      <td>Male</td>\n",
       "      <td>2174</td>\n",
       "      <td>0</td>\n",
       "      <td>40</td>\n",
       "      <td>United-States</td>\n",
       "      <td>&lt;=50K</td>\n",
       "    </tr>\n",
       "    <tr>\n",
       "      <th>1</th>\n",
       "      <td>50</td>\n",
       "      <td>Self-emp-not-inc</td>\n",
       "      <td>Bachelors</td>\n",
       "      <td>13</td>\n",
       "      <td>Married-civ-spouse</td>\n",
       "      <td>Exec-managerial</td>\n",
       "      <td>Husband</td>\n",
       "      <td>White</td>\n",
       "      <td>Male</td>\n",
       "      <td>0</td>\n",
       "      <td>0</td>\n",
       "      <td>13</td>\n",
       "      <td>United-States</td>\n",
       "      <td>&lt;=50K</td>\n",
       "    </tr>\n",
       "    <tr>\n",
       "      <th>2</th>\n",
       "      <td>38</td>\n",
       "      <td>Private</td>\n",
       "      <td>HS-grad</td>\n",
       "      <td>9</td>\n",
       "      <td>Divorced</td>\n",
       "      <td>Handlers-cleaners</td>\n",
       "      <td>Not-in-family</td>\n",
       "      <td>White</td>\n",
       "      <td>Male</td>\n",
       "      <td>0</td>\n",
       "      <td>0</td>\n",
       "      <td>40</td>\n",
       "      <td>United-States</td>\n",
       "      <td>&lt;=50K</td>\n",
       "    </tr>\n",
       "    <tr>\n",
       "      <th>3</th>\n",
       "      <td>53</td>\n",
       "      <td>Private</td>\n",
       "      <td>11th</td>\n",
       "      <td>7</td>\n",
       "      <td>Married-civ-spouse</td>\n",
       "      <td>Handlers-cleaners</td>\n",
       "      <td>Husband</td>\n",
       "      <td>Black</td>\n",
       "      <td>Male</td>\n",
       "      <td>0</td>\n",
       "      <td>0</td>\n",
       "      <td>40</td>\n",
       "      <td>United-States</td>\n",
       "      <td>&lt;=50K</td>\n",
       "    </tr>\n",
       "    <tr>\n",
       "      <th>4</th>\n",
       "      <td>28</td>\n",
       "      <td>Private</td>\n",
       "      <td>Bachelors</td>\n",
       "      <td>13</td>\n",
       "      <td>Married-civ-spouse</td>\n",
       "      <td>Prof-specialty</td>\n",
       "      <td>Wife</td>\n",
       "      <td>Black</td>\n",
       "      <td>Female</td>\n",
       "      <td>0</td>\n",
       "      <td>0</td>\n",
       "      <td>40</td>\n",
       "      <td>Cuba</td>\n",
       "      <td>&lt;=50K</td>\n",
       "    </tr>\n",
       "    <tr>\n",
       "      <th>...</th>\n",
       "      <td>...</td>\n",
       "      <td>...</td>\n",
       "      <td>...</td>\n",
       "      <td>...</td>\n",
       "      <td>...</td>\n",
       "      <td>...</td>\n",
       "      <td>...</td>\n",
       "      <td>...</td>\n",
       "      <td>...</td>\n",
       "      <td>...</td>\n",
       "      <td>...</td>\n",
       "      <td>...</td>\n",
       "      <td>...</td>\n",
       "      <td>...</td>\n",
       "    </tr>\n",
       "    <tr>\n",
       "      <th>32556</th>\n",
       "      <td>27</td>\n",
       "      <td>Private</td>\n",
       "      <td>Assoc-acdm</td>\n",
       "      <td>12</td>\n",
       "      <td>Married-civ-spouse</td>\n",
       "      <td>Tech-support</td>\n",
       "      <td>Wife</td>\n",
       "      <td>White</td>\n",
       "      <td>Female</td>\n",
       "      <td>0</td>\n",
       "      <td>0</td>\n",
       "      <td>38</td>\n",
       "      <td>United-States</td>\n",
       "      <td>&lt;=50K</td>\n",
       "    </tr>\n",
       "    <tr>\n",
       "      <th>32557</th>\n",
       "      <td>40</td>\n",
       "      <td>Private</td>\n",
       "      <td>HS-grad</td>\n",
       "      <td>9</td>\n",
       "      <td>Married-civ-spouse</td>\n",
       "      <td>Machine-op-inspct</td>\n",
       "      <td>Husband</td>\n",
       "      <td>White</td>\n",
       "      <td>Male</td>\n",
       "      <td>0</td>\n",
       "      <td>0</td>\n",
       "      <td>40</td>\n",
       "      <td>United-States</td>\n",
       "      <td>&gt;50K</td>\n",
       "    </tr>\n",
       "    <tr>\n",
       "      <th>32558</th>\n",
       "      <td>58</td>\n",
       "      <td>Private</td>\n",
       "      <td>HS-grad</td>\n",
       "      <td>9</td>\n",
       "      <td>Widowed</td>\n",
       "      <td>Adm-clerical</td>\n",
       "      <td>Unmarried</td>\n",
       "      <td>White</td>\n",
       "      <td>Female</td>\n",
       "      <td>0</td>\n",
       "      <td>0</td>\n",
       "      <td>40</td>\n",
       "      <td>United-States</td>\n",
       "      <td>&lt;=50K</td>\n",
       "    </tr>\n",
       "    <tr>\n",
       "      <th>32559</th>\n",
       "      <td>22</td>\n",
       "      <td>Private</td>\n",
       "      <td>HS-grad</td>\n",
       "      <td>9</td>\n",
       "      <td>Never-married</td>\n",
       "      <td>Adm-clerical</td>\n",
       "      <td>Own-child</td>\n",
       "      <td>White</td>\n",
       "      <td>Male</td>\n",
       "      <td>0</td>\n",
       "      <td>0</td>\n",
       "      <td>20</td>\n",
       "      <td>United-States</td>\n",
       "      <td>&lt;=50K</td>\n",
       "    </tr>\n",
       "    <tr>\n",
       "      <th>32560</th>\n",
       "      <td>52</td>\n",
       "      <td>Self-emp-inc</td>\n",
       "      <td>HS-grad</td>\n",
       "      <td>9</td>\n",
       "      <td>Married-civ-spouse</td>\n",
       "      <td>Exec-managerial</td>\n",
       "      <td>Wife</td>\n",
       "      <td>White</td>\n",
       "      <td>Female</td>\n",
       "      <td>15024</td>\n",
       "      <td>0</td>\n",
       "      <td>40</td>\n",
       "      <td>United-States</td>\n",
       "      <td>&gt;50K</td>\n",
       "    </tr>\n",
       "  </tbody>\n",
       "</table>\n",
       "<p>32561 rows × 14 columns</p>\n",
       "</div>"
      ],
      "text/plain": [
       "       age         workclass   education  education-num      marital-status  \\\n",
       "0       39         State-gov   Bachelors             13       Never-married   \n",
       "1       50  Self-emp-not-inc   Bachelors             13  Married-civ-spouse   \n",
       "2       38           Private     HS-grad              9            Divorced   \n",
       "3       53           Private        11th              7  Married-civ-spouse   \n",
       "4       28           Private   Bachelors             13  Married-civ-spouse   \n",
       "...    ...               ...         ...            ...                 ...   \n",
       "32556   27           Private  Assoc-acdm             12  Married-civ-spouse   \n",
       "32557   40           Private     HS-grad              9  Married-civ-spouse   \n",
       "32558   58           Private     HS-grad              9             Widowed   \n",
       "32559   22           Private     HS-grad              9       Never-married   \n",
       "32560   52      Self-emp-inc     HS-grad              9  Married-civ-spouse   \n",
       "\n",
       "              occupation   relationship   race     sex  capital-gain  \\\n",
       "0           Adm-clerical  Not-in-family  White    Male          2174   \n",
       "1        Exec-managerial        Husband  White    Male             0   \n",
       "2      Handlers-cleaners  Not-in-family  White    Male             0   \n",
       "3      Handlers-cleaners        Husband  Black    Male             0   \n",
       "4         Prof-specialty           Wife  Black  Female             0   \n",
       "...                  ...            ...    ...     ...           ...   \n",
       "32556       Tech-support           Wife  White  Female             0   \n",
       "32557  Machine-op-inspct        Husband  White    Male             0   \n",
       "32558       Adm-clerical      Unmarried  White  Female             0   \n",
       "32559       Adm-clerical      Own-child  White    Male             0   \n",
       "32560    Exec-managerial           Wife  White  Female         15024   \n",
       "\n",
       "       capital-loss  hours-per-week native-country salary  \n",
       "0                 0              40  United-States  <=50K  \n",
       "1                 0              13  United-States  <=50K  \n",
       "2                 0              40  United-States  <=50K  \n",
       "3                 0              40  United-States  <=50K  \n",
       "4                 0              40           Cuba  <=50K  \n",
       "...             ...             ...            ...    ...  \n",
       "32556             0              38  United-States  <=50K  \n",
       "32557             0              40  United-States   >50K  \n",
       "32558             0              40  United-States  <=50K  \n",
       "32559             0              20  United-States  <=50K  \n",
       "32560             0              40  United-States   >50K  \n",
       "\n",
       "[32561 rows x 14 columns]"
      ]
     },
     "execution_count": 4,
     "metadata": {},
     "output_type": "execute_result"
    }
   ],
   "source": [
    "ds"
   ]
  },
  {
   "cell_type": "markdown",
   "id": "46258484",
   "metadata": {},
   "source": [
    "The dataset is shown here"
   ]
  },
  {
   "cell_type": "code",
   "execution_count": 5,
   "id": "4070d319",
   "metadata": {},
   "outputs": [
    {
     "data": {
      "text/html": [
       "<div>\n",
       "<style scoped>\n",
       "    .dataframe tbody tr th:only-of-type {\n",
       "        vertical-align: middle;\n",
       "    }\n",
       "\n",
       "    .dataframe tbody tr th {\n",
       "        vertical-align: top;\n",
       "    }\n",
       "\n",
       "    .dataframe thead th {\n",
       "        text-align: right;\n",
       "    }\n",
       "</style>\n",
       "<table border=\"1\" class=\"dataframe\">\n",
       "  <thead>\n",
       "    <tr style=\"text-align: right;\">\n",
       "      <th></th>\n",
       "      <th>age</th>\n",
       "      <th>education-num</th>\n",
       "      <th>capital-gain</th>\n",
       "      <th>capital-loss</th>\n",
       "      <th>hours-per-week</th>\n",
       "    </tr>\n",
       "  </thead>\n",
       "  <tbody>\n",
       "    <tr>\n",
       "      <th>count</th>\n",
       "      <td>32561.000000</td>\n",
       "      <td>32561.000000</td>\n",
       "      <td>32561.000000</td>\n",
       "      <td>32561.000000</td>\n",
       "      <td>32561.000000</td>\n",
       "    </tr>\n",
       "    <tr>\n",
       "      <th>mean</th>\n",
       "      <td>38.581647</td>\n",
       "      <td>10.080679</td>\n",
       "      <td>1077.648844</td>\n",
       "      <td>87.303830</td>\n",
       "      <td>40.437456</td>\n",
       "    </tr>\n",
       "    <tr>\n",
       "      <th>std</th>\n",
       "      <td>13.640433</td>\n",
       "      <td>2.572720</td>\n",
       "      <td>7385.292085</td>\n",
       "      <td>402.960219</td>\n",
       "      <td>12.347429</td>\n",
       "    </tr>\n",
       "    <tr>\n",
       "      <th>min</th>\n",
       "      <td>17.000000</td>\n",
       "      <td>1.000000</td>\n",
       "      <td>0.000000</td>\n",
       "      <td>0.000000</td>\n",
       "      <td>1.000000</td>\n",
       "    </tr>\n",
       "    <tr>\n",
       "      <th>25%</th>\n",
       "      <td>28.000000</td>\n",
       "      <td>9.000000</td>\n",
       "      <td>0.000000</td>\n",
       "      <td>0.000000</td>\n",
       "      <td>40.000000</td>\n",
       "    </tr>\n",
       "    <tr>\n",
       "      <th>50%</th>\n",
       "      <td>37.000000</td>\n",
       "      <td>10.000000</td>\n",
       "      <td>0.000000</td>\n",
       "      <td>0.000000</td>\n",
       "      <td>40.000000</td>\n",
       "    </tr>\n",
       "    <tr>\n",
       "      <th>75%</th>\n",
       "      <td>48.000000</td>\n",
       "      <td>12.000000</td>\n",
       "      <td>0.000000</td>\n",
       "      <td>0.000000</td>\n",
       "      <td>45.000000</td>\n",
       "    </tr>\n",
       "    <tr>\n",
       "      <th>max</th>\n",
       "      <td>90.000000</td>\n",
       "      <td>16.000000</td>\n",
       "      <td>99999.000000</td>\n",
       "      <td>4356.000000</td>\n",
       "      <td>99.000000</td>\n",
       "    </tr>\n",
       "  </tbody>\n",
       "</table>\n",
       "</div>"
      ],
      "text/plain": [
       "                age  education-num  capital-gain  capital-loss  hours-per-week\n",
       "count  32561.000000   32561.000000  32561.000000  32561.000000    32561.000000\n",
       "mean      38.581647      10.080679   1077.648844     87.303830       40.437456\n",
       "std       13.640433       2.572720   7385.292085    402.960219       12.347429\n",
       "min       17.000000       1.000000      0.000000      0.000000        1.000000\n",
       "25%       28.000000       9.000000      0.000000      0.000000       40.000000\n",
       "50%       37.000000      10.000000      0.000000      0.000000       40.000000\n",
       "75%       48.000000      12.000000      0.000000      0.000000       45.000000\n",
       "max       90.000000      16.000000  99999.000000   4356.000000       99.000000"
      ]
     },
     "execution_count": 5,
     "metadata": {},
     "output_type": "execute_result"
    }
   ],
   "source": [
    "ds.describe()"
   ]
  },
  {
   "cell_type": "markdown",
   "id": "87ea360f",
   "metadata": {},
   "source": [
    "Dataset description\n",
    "\n",
    "Age: Age of person\n",
    "\n",
    "Workclass: Belongs to which working class like Private/government/self employed etc\n",
    "\n",
    "Education: Person's maximum qualification\n",
    "\n",
    "Education-Number: Numbered qualification\n",
    "\n",
    "Salary: Traget coloumn\n",
    "\n",
    "    "
   ]
  },
  {
   "cell_type": "code",
   "execution_count": 6,
   "id": "eebcdb54",
   "metadata": {},
   "outputs": [
    {
     "name": "stdout",
     "output_type": "stream",
     "text": [
      "(32561, 14)\n"
     ]
    }
   ],
   "source": [
    "# Shape of the dataset\n",
    "\n",
    "print(ds.shape)"
   ]
  },
  {
   "cell_type": "markdown",
   "id": "175dee88",
   "metadata": {},
   "source": [
    "# DATA cleaning\n"
   ]
  },
  {
   "cell_type": "code",
   "execution_count": 7,
   "id": "6ccc736d",
   "metadata": {},
   "outputs": [],
   "source": [
    "# Checking for null values in each coloumn"
   ]
  },
  {
   "cell_type": "code",
   "execution_count": 8,
   "id": "b3092c3b",
   "metadata": {},
   "outputs": [
    {
     "name": "stdout",
     "output_type": "stream",
     "text": [
      "age               0\n",
      "workclass         0\n",
      "education         0\n",
      "education-num     0\n",
      "marital-status    0\n",
      "occupation        0\n",
      "relationship      0\n",
      "race              0\n",
      "sex               0\n",
      "capital-gain      0\n",
      "capital-loss      0\n",
      "hours-per-week    0\n",
      "native-country    0\n",
      "salary            0\n",
      "dtype: int64\n"
     ]
    }
   ],
   "source": [
    "print(ds.isna().sum())\n"
   ]
  },
  {
   "cell_type": "markdown",
   "id": "a93e41e3",
   "metadata": {},
   "source": [
    "There is no null value in any of the coloumns"
   ]
  },
  {
   "cell_type": "code",
   "execution_count": 9,
   "id": "da8b46f4",
   "metadata": {},
   "outputs": [
    {
     "name": "stdout",
     "output_type": "stream",
     "text": [
      "<class 'pandas.core.frame.DataFrame'>\n",
      "RangeIndex: 32561 entries, 0 to 32560\n",
      "Data columns (total 14 columns):\n",
      " #   Column          Non-Null Count  Dtype \n",
      "---  ------          --------------  ----- \n",
      " 0   age             32561 non-null  int64 \n",
      " 1   workclass       32561 non-null  object\n",
      " 2   education       32561 non-null  object\n",
      " 3   education-num   32561 non-null  int64 \n",
      " 4   marital-status  32561 non-null  object\n",
      " 5   occupation      32561 non-null  object\n",
      " 6   relationship    32561 non-null  object\n",
      " 7   race            32561 non-null  object\n",
      " 8   sex             32561 non-null  object\n",
      " 9   capital-gain    32561 non-null  int64 \n",
      " 10  capital-loss    32561 non-null  int64 \n",
      " 11  hours-per-week  32561 non-null  int64 \n",
      " 12  native-country  32561 non-null  object\n",
      " 13  salary          32561 non-null  object\n",
      "dtypes: int64(5), object(9)\n",
      "memory usage: 3.5+ MB\n"
     ]
    }
   ],
   "source": [
    "# Check the datatypes of the data\n",
    "\n",
    "ds.info()"
   ]
  },
  {
   "cell_type": "code",
   "execution_count": 10,
   "id": "6addbc49",
   "metadata": {},
   "outputs": [
    {
     "data": {
      "text/plain": [
       "age                73\n",
       "workclass           9\n",
       "education          16\n",
       "education-num      16\n",
       "marital-status      7\n",
       "occupation         15\n",
       "relationship        6\n",
       "race                5\n",
       "sex                 2\n",
       "capital-gain      119\n",
       "capital-loss       92\n",
       "hours-per-week     94\n",
       "native-country     42\n",
       "salary              2\n",
       "dtype: int64"
      ]
     },
     "execution_count": 10,
     "metadata": {},
     "output_type": "execute_result"
    }
   ],
   "source": [
    "ds.nunique()"
   ]
  },
  {
   "cell_type": "code",
   "execution_count": 11,
   "id": "6a5f5cfc",
   "metadata": {},
   "outputs": [
    {
     "data": {
      "text/plain": [
       "array([39, 50, 38, 53, 28, 37, 49, 52, 31, 42, 30, 23, 32, 40, 34, 25, 43,\n",
       "       54, 35, 59, 56, 19, 20, 45, 22, 48, 21, 24, 57, 44, 41, 29, 18, 47,\n",
       "       46, 36, 79, 27, 67, 33, 76, 17, 55, 61, 70, 64, 71, 68, 66, 51, 58,\n",
       "       26, 60, 90, 75, 65, 77, 62, 63, 80, 72, 74, 69, 73, 81, 78, 88, 82,\n",
       "       83, 84, 85, 86, 87], dtype=int64)"
      ]
     },
     "execution_count": 11,
     "metadata": {},
     "output_type": "execute_result"
    }
   ],
   "source": [
    "ds['age'].unique() "
   ]
  },
  {
   "cell_type": "code",
   "execution_count": 12,
   "id": "89825518",
   "metadata": {},
   "outputs": [
    {
     "data": {
      "text/plain": [
       "array(['State-gov', 'Self-emp-not-inc', 'Private', 'Federal-gov',\n",
       "       'Local-gov', '?', 'Self-emp-inc', 'Without-pay', 'Never-worked'],\n",
       "      dtype=object)"
      ]
     },
     "execution_count": 12,
     "metadata": {},
     "output_type": "execute_result"
    }
   ],
   "source": [
    "ds['workclass'].unique() "
   ]
  },
  {
   "cell_type": "code",
   "execution_count": 13,
   "id": "7664082c",
   "metadata": {},
   "outputs": [],
   "source": [
    "ds['workclass'] = ds['workclass'].replace('?', np.nan)"
   ]
  },
  {
   "cell_type": "code",
   "execution_count": 14,
   "id": "fb516f6d",
   "metadata": {},
   "outputs": [
    {
     "data": {
      "text/plain": [
       "array(['State-gov', 'Self-emp-not-inc', 'Private', 'Federal-gov',\n",
       "       'Local-gov', nan, 'Self-emp-inc', 'Without-pay', 'Never-worked'],\n",
       "      dtype=object)"
      ]
     },
     "execution_count": 14,
     "metadata": {},
     "output_type": "execute_result"
    }
   ],
   "source": [
    "ds['workclass'].unique() "
   ]
  },
  {
   "cell_type": "code",
   "execution_count": 15,
   "id": "0ae01fb4",
   "metadata": {},
   "outputs": [
    {
     "data": {
      "text/plain": [
       "age               [39, 50, 38, 53, 28, 37, 49, 52, 31, 42, 30, 2...\n",
       "workclass         [State-gov, Self-emp-not-inc, Private, Federal...\n",
       "education         [Bachelors, HS-grad, 11th, Masters, 9th, Some-...\n",
       "education-num     [13, 9, 7, 14, 5, 10, 12, 11, 4, 16, 15, 3, 6,...\n",
       "marital-status    [Never-married, Married-civ-spouse, Divorced, ...\n",
       "occupation        [Adm-clerical, Exec-managerial, Handlers-clean...\n",
       "relationship      [Not-in-family, Husband, Wife, Own-child, Unma...\n",
       "race              [White, Black, Asian-Pac-Islander, Amer-Indian...\n",
       "sex                                                  [Male, Female]\n",
       "capital-gain      [2174, 0, 14084, 5178, 5013, 2407, 14344, 1502...\n",
       "capital-loss      [0, 2042, 1408, 1902, 1573, 1887, 1719, 1762, ...\n",
       "hours-per-week    [40, 13, 16, 45, 50, 80, 30, 35, 60, 20, 52, 4...\n",
       "native-country    [United-States, Cuba, Jamaica, India, ?, Mexic...\n",
       "salary                                                [<=50K, >50K]\n",
       "dtype: object"
      ]
     },
     "execution_count": 15,
     "metadata": {},
     "output_type": "execute_result"
    }
   ],
   "source": [
    "ds.apply(lambda col: col.unique())"
   ]
  },
  {
   "cell_type": "code",
   "execution_count": 16,
   "id": "ce4edca1",
   "metadata": {},
   "outputs": [
    {
     "name": "stdout",
     "output_type": "stream",
     "text": [
      "age: [39 50 38 53 28 37 49 52 31 42 30 23 32 40 34 25 43 54 35 59 56 19 20 45\n",
      " 22 48 21 24 57 44 41 29 18 47 46 36 79 27 67 33 76 17 55 61 70 64 71 68\n",
      " 66 51 58 26 60 90 75 65 77 62 63 80 72 74 69 73 81 78 88 82 83 84 85 86\n",
      " 87]\n",
      "workclass: ['State-gov' 'Self-emp-not-inc' 'Private' 'Federal-gov' 'Local-gov' nan\n",
      " 'Self-emp-inc' 'Without-pay' 'Never-worked']\n",
      "education: ['Bachelors' 'HS-grad' '11th' 'Masters' '9th' 'Some-college' 'Assoc-acdm'\n",
      " 'Assoc-voc' '7th-8th' 'Doctorate' 'Prof-school' '5th-6th' '10th'\n",
      " '1st-4th' 'Preschool' '12th']\n",
      "education-num: [13  9  7 14  5 10 12 11  4 16 15  3  6  2  1  8]\n",
      "marital-status: ['Never-married' 'Married-civ-spouse' 'Divorced' 'Married-spouse-absent'\n",
      " 'Separated' 'Married-AF-spouse' 'Widowed']\n",
      "occupation: ['Adm-clerical' 'Exec-managerial' 'Handlers-cleaners' 'Prof-specialty'\n",
      " 'Other-service' 'Sales' 'Craft-repair' 'Transport-moving'\n",
      " 'Farming-fishing' 'Machine-op-inspct' 'Tech-support' '?'\n",
      " 'Protective-serv' 'Armed-Forces' 'Priv-house-serv']\n",
      "relationship: ['Not-in-family' 'Husband' 'Wife' 'Own-child' 'Unmarried' 'Other-relative']\n",
      "race: ['White' 'Black' 'Asian-Pac-Islander' 'Amer-Indian-Eskimo' 'Other']\n",
      "sex: ['Male' 'Female']\n",
      "capital-gain: [ 2174     0 14084  5178  5013  2407 14344 15024  7688 34095  4064  4386\n",
      "  7298  1409  3674  1055  3464  2050  2176   594 20051  6849  4101  1111\n",
      "  8614  3411  2597 25236  4650  9386  2463  3103 10605  2964  3325  2580\n",
      "  3471  4865 99999  6514  1471  2329  2105  2885 25124 10520  2202  2961\n",
      " 27828  6767  2228  1506 13550  2635  5556  4787  3781  3137  3818  3942\n",
      "   914   401  2829  2977  4934  2062  2354  5455 15020  1424  3273 22040\n",
      "  4416  3908 10566   991  4931  1086  7430  6497   114  7896  2346  3418\n",
      "  3432  2907  1151  2414  2290 15831 41310  4508  2538  3456  6418  1848\n",
      "  3887  5721  9562  1455  2036  1831 11678  2936  2993  7443  6360  1797\n",
      "  1173  4687  6723  2009  6097  2653  1639 18481  7978  2387  5060]\n",
      "capital-loss: [   0 2042 1408 1902 1573 1887 1719 1762 1564 2179 1816 1980 1977 1876\n",
      " 1340 2206 1741 1485 2339 2415 1380 1721 2051 2377 1669 2352 1672  653\n",
      " 2392 1504 2001 1590 1651 1628 1848 1740 2002 1579 2258 1602  419 2547\n",
      " 2174 2205 1726 2444 1138 2238  625  213 1539  880 1668 1092 1594 3004\n",
      " 2231 1844  810 2824 2559 2057 1974  974 2149 1825 1735 1258 2129 2603\n",
      " 2282  323 4356 2246 1617 1648 2489 3770 1755 3683 2267 2080 2457  155\n",
      " 3900 2201 1944 2467 2163 2754 2472 1411]\n",
      "hours-per-week: [40 13 16 45 50 80 30 35 60 20 52 44 15 25 38 43 55 48 58 32 70  2 22 56\n",
      " 41 28 36 24 46 42 12 65  1 10 34 75 98 33 54  8  6 64 19 18 72  5  9 47\n",
      " 37 21 26 14  4 59  7 99 53 39 62 57 78 90 66 11 49 84  3 17 68 27 85 31\n",
      " 51 77 63 23 87 88 73 89 97 94 29 96 67 82 86 91 81 76 92 61 74 95]\n",
      "native-country: ['United-States' 'Cuba' 'Jamaica' 'India' '?' 'Mexico' 'South'\n",
      " 'Puerto-Rico' 'Honduras' 'England' 'Canada' 'Germany' 'Iran'\n",
      " 'Philippines' 'Italy' 'Poland' 'Columbia' 'Cambodia' 'Thailand' 'Ecuador'\n",
      " 'Laos' 'Taiwan' 'Haiti' 'Portugal' 'Dominican-Republic' 'El-Salvador'\n",
      " 'France' 'Guatemala' 'China' 'Japan' 'Yugoslavia' 'Peru'\n",
      " 'Outlying-US(Guam-USVI-etc)' 'Scotland' 'Trinadad&Tobago' 'Greece'\n",
      " 'Nicaragua' 'Vietnam' 'Hong' 'Ireland' 'Hungary' 'Holand-Netherlands']\n",
      "salary: ['<=50K' '>50K']\n"
     ]
    }
   ],
   "source": [
    "for col in ds:\n",
    "    print(f'{col}: {ds[col].unique()}')"
   ]
  },
  {
   "cell_type": "markdown",
   "id": "a47a6fc5",
   "metadata": {},
   "source": [
    "The unique values in each coloumn have been displayed"
   ]
  },
  {
   "cell_type": "code",
   "execution_count": 17,
   "id": "152bc2fa",
   "metadata": {},
   "outputs": [
    {
     "data": {
      "text/plain": [
       "array(['Adm-clerical', 'Exec-managerial', 'Handlers-cleaners',\n",
       "       'Prof-specialty', 'Other-service', 'Sales', 'Craft-repair',\n",
       "       'Transport-moving', 'Farming-fishing', 'Machine-op-inspct',\n",
       "       'Tech-support', '?', 'Protective-serv', 'Armed-Forces',\n",
       "       'Priv-house-serv'], dtype=object)"
      ]
     },
     "execution_count": 17,
     "metadata": {},
     "output_type": "execute_result"
    }
   ],
   "source": [
    "ds['occupation'].unique() "
   ]
  },
  {
   "cell_type": "code",
   "execution_count": 18,
   "id": "d4388c70",
   "metadata": {},
   "outputs": [],
   "source": [
    "ds['occupation'] = ds['occupation'].replace('?', np.nan)\n",
    "ds['native-country'] = ds['native-country'].replace('?', np.nan)\n"
   ]
  },
  {
   "cell_type": "code",
   "execution_count": 19,
   "id": "dd25da5a",
   "metadata": {},
   "outputs": [
    {
     "name": "stdout",
     "output_type": "stream",
     "text": [
      "age                  0\n",
      "workclass         1836\n",
      "education            0\n",
      "education-num        0\n",
      "marital-status       0\n",
      "occupation        1843\n",
      "relationship         0\n",
      "race                 0\n",
      "sex                  0\n",
      "capital-gain         0\n",
      "capital-loss         0\n",
      "hours-per-week       0\n",
      "native-country     583\n",
      "salary               0\n",
      "dtype: int64\n"
     ]
    }
   ],
   "source": [
    "print(ds.isna().sum())\n"
   ]
  },
  {
   "cell_type": "markdown",
   "id": "cc1c713d",
   "metadata": {},
   "source": [
    "It is clear that workclass,occupation and native country contains null values"
   ]
  },
  {
   "cell_type": "code",
   "execution_count": 20,
   "id": "1c1db15c",
   "metadata": {},
   "outputs": [],
   "source": [
    "ds['workclass'] = ds['workclass'].fillna(ds['workclass'].mode()[0])\n",
    "ds['occupation'] = ds['occupation'].fillna(ds['occupation'].mode()[0])\n",
    "ds['native-country'] = ds['native-country'].fillna(ds['native-country'].mode()[0])\n"
   ]
  },
  {
   "cell_type": "code",
   "execution_count": 21,
   "id": "6466aa81",
   "metadata": {},
   "outputs": [
    {
     "name": "stdout",
     "output_type": "stream",
     "text": [
      "age               0\n",
      "workclass         0\n",
      "education         0\n",
      "education-num     0\n",
      "marital-status    0\n",
      "occupation        0\n",
      "relationship      0\n",
      "race              0\n",
      "sex               0\n",
      "capital-gain      0\n",
      "capital-loss      0\n",
      "hours-per-week    0\n",
      "native-country    0\n",
      "salary            0\n",
      "dtype: int64\n"
     ]
    }
   ],
   "source": [
    "print(ds.isna().sum())"
   ]
  },
  {
   "cell_type": "markdown",
   "id": "519e2c86",
   "metadata": {},
   "source": [
    "The null values are replaced with mode of the data"
   ]
  },
  {
   "cell_type": "markdown",
   "id": "dd9e88d0",
   "metadata": {},
   "source": [
    "# Exploratory Data Analysis\n",
    "Univariate Analysis"
   ]
  },
  {
   "cell_type": "code",
   "execution_count": 22,
   "id": "31bfe4a6",
   "metadata": {},
   "outputs": [
    {
     "data": {
      "image/png": "[encoded data removed]",
      "text/plain": [
       "<Figure size 2000x1500 with 6 Axes>"
      ]
     },
     "metadata": {},
     "output_type": "display_data"
    }
   ],
   "source": [
    "freqgraph = ds.select_dtypes(include = ['int'])\n",
    "freqgraph.hist(figsize =(20,15))\n",
    "plt.show()"
   ]
  },
  {
   "cell_type": "code",
   "execution_count": 23,
   "id": "ce941e35",
   "metadata": {},
   "outputs": [
    {
     "data": {
      "image/png": "[encoded data removed]",
      "text/plain": [
       "<Figure size 640x480 with 1 Axes>"
      ]
     },
     "metadata": {},
     "output_type": "display_data"
    }
   ],
   "source": [
    "ds['relationship'].value_counts().plot.pie(autopct='%.0f%%')\n",
    "plt.title(\"relationship\")\n",
    "plt.show()"
   ]
  },
  {
   "cell_type": "markdown",
   "id": "671a4d63",
   "metadata": {},
   "source": [
    "The employees with relationship shown majority are husbands followed by not in a family and own child"
   ]
  },
  {
   "cell_type": "code",
   "execution_count": 24,
   "id": "0f82dfd0",
   "metadata": {},
   "outputs": [
    {
     "data": {
      "image/png": "[encoded data removed]",
      "text/plain": [
       "<Figure size 640x480 with 1 Axes>"
      ]
     },
     "metadata": {},
     "output_type": "display_data"
    },
    {
     "data": {
      "text/plain": [
       "<Figure size 500x500 with 0 Axes>"
      ]
     },
     "metadata": {},
     "output_type": "display_data"
    }
   ],
   "source": [
    "sns.countplot(x= ds['salary'], palette=\"dark\") \n",
    "#different types of credit accounts of a customer, shows the ability to handle multiple credits\n",
    "plt.title(\"Salary scale\")\n",
    "plt.figure(figsize=(5,5))\n",
    "plt.show()"
   ]
  },
  {
   "cell_type": "markdown",
   "id": "25c57c73",
   "metadata": {},
   "source": [
    "People are more who getting a salary of <=50K"
   ]
  },
  {
   "cell_type": "code",
   "execution_count": 25,
   "id": "9e0cd811",
   "metadata": {},
   "outputs": [
    {
     "data": {
      "image/png": "[encoded data removed]",
      "text/plain": [
       "<Figure size 640x480 with 1 Axes>"
      ]
     },
     "metadata": {},
     "output_type": "display_data"
    },
    {
     "data": {
      "text/plain": [
       "<Figure size 1000x1000 with 0 Axes>"
      ]
     },
     "metadata": {},
     "output_type": "display_data"
    }
   ],
   "source": [
    "sns.countplot(x= ds['education'], palette=\"dark\") \n",
    "locs, labels = plt.xticks()\n",
    "plt.setp(labels, rotation=90)\n",
    "#different types of credit accounts of a customer, shows the ability to handle multiple credits\n",
    "plt.title(\"Education Qualification\")\n",
    "plt.figure(figsize=(10,10))\n",
    "\n",
    "plt.show()"
   ]
  },
  {
   "cell_type": "markdown",
   "id": "95a065e5",
   "metadata": {},
   "source": [
    "More people have eductaional qualification as HS grad"
   ]
  },
  {
   "cell_type": "markdown",
   "id": "d061d971",
   "metadata": {},
   "source": [
    "# Bivariate analysis (w.r.t. target coloumn salary)"
   ]
  },
  {
   "cell_type": "code",
   "execution_count": 26,
   "id": "e909488c",
   "metadata": {},
   "outputs": [
    {
     "data": {
      "image/png": "[encoded data removed]",
      "text/plain": [
       "<Figure size 640x480 with 1 Axes>"
      ]
     },
     "metadata": {},
     "output_type": "display_data"
    }
   ],
   "source": [
    "# Annual_Income vs credit score\n",
    "sns.barplot(x=ds['age'], y=ds['salary'])\n",
    "plt.title('Age vs Salary')\n",
    "plt.show()"
   ]
  },
  {
   "cell_type": "code",
   "execution_count": 27,
   "id": "59cbaddd",
   "metadata": {},
   "outputs": [
    {
     "data": {
      "image/png": "[encoded data removed]",
      "text/plain": [
       "<Figure size 640x480 with 1 Axes>"
      ]
     },
     "metadata": {},
     "output_type": "display_data"
    }
   ],
   "source": [
    "sns.boxplot(y=ds['salary'], x=ds['education-num'])\n",
    "plt.title('education-num vs salary')\n",
    "plt.show()"
   ]
  },
  {
   "cell_type": "code",
   "execution_count": 28,
   "id": "edc4d7aa",
   "metadata": {},
   "outputs": [
    {
     "data": {
      "image/png": "[encoded data removed]",
      "text/plain": [
       "<Figure size 1500x500 with 2 Axes>"
      ]
     },
     "metadata": {},
     "output_type": "display_data"
    }
   ],
   "source": [
    "sns.catplot(x= 'sex', col= 'salary', data = ds, kind = 'count', col_wrap = 3)\n",
    "plt.show()"
   ]
  },
  {
   "cell_type": "markdown",
   "id": "dd49855e",
   "metadata": {},
   "source": [
    "# Outlier detection and removal  using boxplot "
   ]
  },
  {
   "cell_type": "code",
   "execution_count": 29,
   "id": "7b8f873f",
   "metadata": {},
   "outputs": [
    {
     "data": {
      "image/png": "[encoded data removed]",
      "text/plain": [
       "<Figure size 2000x3000 with 5 Axes>"
      ]
     },
     "metadata": {},
     "output_type": "display_data"
    }
   ],
   "source": [
    "num_col = ds.select_dtypes(include=np.number).columns.tolist()\n",
    "\n",
    "plt.figure(figsize=(20,30))\n",
    "\n",
    "for i, variable in enumerate(num_col):\n",
    "                     plt.subplot(5,4,i+1)\n",
    "                     plt.boxplot(ds[variable],whis=1.5)\n",
    "                     plt.tight_layout()\n",
    "                     plt.title(variable)"
   ]
  },
  {
   "cell_type": "code",
   "execution_count": 30,
   "id": "4c19e743",
   "metadata": {},
   "outputs": [],
   "source": [
    "# Identify the outliers and remove \n",
    "\n",
    "for i in num_col:\n",
    "    Q1=ds[i].quantile(0.25) # 25th quantile\n",
    "    Q3=ds[i].quantile(0.75) # 75th quantile\n",
    "    IQR = Q3-Q1\n",
    "    Lower_Whisker = Q1 - 1.5*IQR \n",
    "    Upper_Whisker = Q3 + 1.5*IQR\n",
    "    ds[i] = np.clip(ds[i], Lower_Whisker, Upper_Whisker)"
   ]
  },
  {
   "cell_type": "code",
   "execution_count": 31,
   "id": "4ed78baa",
   "metadata": {},
   "outputs": [
    {
     "data": {
      "image/png": "[encoded data removed]",
      "text/plain": [
       "<Figure size 2000x3000 with 5 Axes>"
      ]
     },
     "metadata": {},
     "output_type": "display_data"
    }
   ],
   "source": [
    "# PLot the numerical columns\n",
    "plt.figure(figsize=(20,30))\n",
    "for i, variable in enumerate(num_col):\n",
    "                     plt.subplot(5,4,i+1)\n",
    "                     plt.boxplot(ds[variable],whis=1.5)\n",
    "                     plt.tight_layout()\n",
    "                     plt.title(variable)"
   ]
  },
  {
   "cell_type": "code",
   "execution_count": 32,
   "id": "611d7f80",
   "metadata": {},
   "outputs": [
    {
     "data": {
      "text/html": [
       "<div>\n",
       "<style scoped>\n",
       "    .dataframe tbody tr th:only-of-type {\n",
       "        vertical-align: middle;\n",
       "    }\n",
       "\n",
       "    .dataframe tbody tr th {\n",
       "        vertical-align: top;\n",
       "    }\n",
       "\n",
       "    .dataframe thead th {\n",
       "        text-align: right;\n",
       "    }\n",
       "</style>\n",
       "<table border=\"1\" class=\"dataframe\">\n",
       "  <thead>\n",
       "    <tr style=\"text-align: right;\">\n",
       "      <th></th>\n",
       "      <th>age</th>\n",
       "      <th>salary</th>\n",
       "    </tr>\n",
       "  </thead>\n",
       "  <tbody>\n",
       "    <tr>\n",
       "      <th>0</th>\n",
       "      <td>39.0</td>\n",
       "      <td>&lt;=50K</td>\n",
       "    </tr>\n",
       "    <tr>\n",
       "      <th>1</th>\n",
       "      <td>50.0</td>\n",
       "      <td>&lt;=50K</td>\n",
       "    </tr>\n",
       "    <tr>\n",
       "      <th>2</th>\n",
       "      <td>38.0</td>\n",
       "      <td>&lt;=50K</td>\n",
       "    </tr>\n",
       "    <tr>\n",
       "      <th>3</th>\n",
       "      <td>53.0</td>\n",
       "      <td>&lt;=50K</td>\n",
       "    </tr>\n",
       "    <tr>\n",
       "      <th>4</th>\n",
       "      <td>28.0</td>\n",
       "      <td>&lt;=50K</td>\n",
       "    </tr>\n",
       "    <tr>\n",
       "      <th>5</th>\n",
       "      <td>37.0</td>\n",
       "      <td>&lt;=50K</td>\n",
       "    </tr>\n",
       "    <tr>\n",
       "      <th>6</th>\n",
       "      <td>49.0</td>\n",
       "      <td>&lt;=50K</td>\n",
       "    </tr>\n",
       "    <tr>\n",
       "      <th>7</th>\n",
       "      <td>52.0</td>\n",
       "      <td>&gt;50K</td>\n",
       "    </tr>\n",
       "    <tr>\n",
       "      <th>8</th>\n",
       "      <td>31.0</td>\n",
       "      <td>&gt;50K</td>\n",
       "    </tr>\n",
       "    <tr>\n",
       "      <th>9</th>\n",
       "      <td>42.0</td>\n",
       "      <td>&gt;50K</td>\n",
       "    </tr>\n",
       "    <tr>\n",
       "      <th>10</th>\n",
       "      <td>37.0</td>\n",
       "      <td>&gt;50K</td>\n",
       "    </tr>\n",
       "    <tr>\n",
       "      <th>11</th>\n",
       "      <td>30.0</td>\n",
       "      <td>&gt;50K</td>\n",
       "    </tr>\n",
       "    <tr>\n",
       "      <th>12</th>\n",
       "      <td>23.0</td>\n",
       "      <td>&lt;=50K</td>\n",
       "    </tr>\n",
       "    <tr>\n",
       "      <th>13</th>\n",
       "      <td>32.0</td>\n",
       "      <td>&lt;=50K</td>\n",
       "    </tr>\n",
       "    <tr>\n",
       "      <th>14</th>\n",
       "      <td>40.0</td>\n",
       "      <td>&gt;50K</td>\n",
       "    </tr>\n",
       "    <tr>\n",
       "      <th>15</th>\n",
       "      <td>34.0</td>\n",
       "      <td>&lt;=50K</td>\n",
       "    </tr>\n",
       "    <tr>\n",
       "      <th>16</th>\n",
       "      <td>25.0</td>\n",
       "      <td>&lt;=50K</td>\n",
       "    </tr>\n",
       "    <tr>\n",
       "      <th>17</th>\n",
       "      <td>32.0</td>\n",
       "      <td>&lt;=50K</td>\n",
       "    </tr>\n",
       "    <tr>\n",
       "      <th>18</th>\n",
       "      <td>38.0</td>\n",
       "      <td>&lt;=50K</td>\n",
       "    </tr>\n",
       "    <tr>\n",
       "      <th>19</th>\n",
       "      <td>43.0</td>\n",
       "      <td>&gt;50K</td>\n",
       "    </tr>\n",
       "    <tr>\n",
       "      <th>20</th>\n",
       "      <td>40.0</td>\n",
       "      <td>&gt;50K</td>\n",
       "    </tr>\n",
       "    <tr>\n",
       "      <th>21</th>\n",
       "      <td>54.0</td>\n",
       "      <td>&lt;=50K</td>\n",
       "    </tr>\n",
       "    <tr>\n",
       "      <th>22</th>\n",
       "      <td>35.0</td>\n",
       "      <td>&lt;=50K</td>\n",
       "    </tr>\n",
       "    <tr>\n",
       "      <th>23</th>\n",
       "      <td>43.0</td>\n",
       "      <td>&lt;=50K</td>\n",
       "    </tr>\n",
       "  </tbody>\n",
       "</table>\n",
       "</div>"
      ],
      "text/plain": [
       "     age salary\n",
       "0   39.0  <=50K\n",
       "1   50.0  <=50K\n",
       "2   38.0  <=50K\n",
       "3   53.0  <=50K\n",
       "4   28.0  <=50K\n",
       "5   37.0  <=50K\n",
       "6   49.0  <=50K\n",
       "7   52.0   >50K\n",
       "8   31.0   >50K\n",
       "9   42.0   >50K\n",
       "10  37.0   >50K\n",
       "11  30.0   >50K\n",
       "12  23.0  <=50K\n",
       "13  32.0  <=50K\n",
       "14  40.0   >50K\n",
       "15  34.0  <=50K\n",
       "16  25.0  <=50K\n",
       "17  32.0  <=50K\n",
       "18  38.0  <=50K\n",
       "19  43.0   >50K\n",
       "20  40.0   >50K\n",
       "21  54.0  <=50K\n",
       "22  35.0  <=50K\n",
       "23  43.0  <=50K"
      ]
     },
     "execution_count": 32,
     "metadata": {},
     "output_type": "execute_result"
    }
   ],
   "source": [
    "ds[['age','salary']].head(24)"
   ]
  },
  {
   "cell_type": "markdown",
   "id": "f2922f14",
   "metadata": {},
   "source": [
    "# Label Encoding"
   ]
  },
  {
   "cell_type": "code",
   "execution_count": 33,
   "id": "f16a0e04",
   "metadata": {},
   "outputs": [],
   "source": [
    "from sklearn import preprocessing \n",
    "label= preprocessing.LabelEncoder()  \n",
    "ds['workclass']=label.fit_transform(ds['workclass'])\n",
    "ds['education']=label.fit_transform(ds['education'])\n",
    "ds['occupation']=label.fit_transform(ds['occupation'])\n",
    "ds['sex']=label.fit_transform(ds['sex'])\n",
    "\n",
    "\n",
    "\n",
    "ds['race']=label.fit_transform(ds['race'])\n",
    "ds['native-country']=label.fit_transform(ds['native-country'])\n",
    "ds['marital-status']=label.fit_transform(ds['marital-status'])\n",
    "ds['relationship']=label.fit_transform(ds['relationship'])"
   ]
  },
  {
   "cell_type": "code",
   "execution_count": 34,
   "id": "99134342",
   "metadata": {},
   "outputs": [
    {
     "data": {
      "text/html": [
       "<div>\n",
       "<style scoped>\n",
       "    .dataframe tbody tr th:only-of-type {\n",
       "        vertical-align: middle;\n",
       "    }\n",
       "\n",
       "    .dataframe tbody tr th {\n",
       "        vertical-align: top;\n",
       "    }\n",
       "\n",
       "    .dataframe thead th {\n",
       "        text-align: right;\n",
       "    }\n",
       "</style>\n",
       "<table border=\"1\" class=\"dataframe\">\n",
       "  <thead>\n",
       "    <tr style=\"text-align: right;\">\n",
       "      <th></th>\n",
       "      <th>age</th>\n",
       "      <th>workclass</th>\n",
       "      <th>education</th>\n",
       "      <th>education-num</th>\n",
       "      <th>marital-status</th>\n",
       "      <th>occupation</th>\n",
       "      <th>relationship</th>\n",
       "      <th>race</th>\n",
       "      <th>sex</th>\n",
       "      <th>capital-gain</th>\n",
       "      <th>capital-loss</th>\n",
       "      <th>hours-per-week</th>\n",
       "      <th>native-country</th>\n",
       "      <th>salary</th>\n",
       "    </tr>\n",
       "  </thead>\n",
       "  <tbody>\n",
       "    <tr>\n",
       "      <th>0</th>\n",
       "      <td>39.0</td>\n",
       "      <td>6</td>\n",
       "      <td>9</td>\n",
       "      <td>13.0</td>\n",
       "      <td>4</td>\n",
       "      <td>0</td>\n",
       "      <td>1</td>\n",
       "      <td>4</td>\n",
       "      <td>1</td>\n",
       "      <td>0.0</td>\n",
       "      <td>0.0</td>\n",
       "      <td>40.0</td>\n",
       "      <td>38</td>\n",
       "      <td>&lt;=50K</td>\n",
       "    </tr>\n",
       "    <tr>\n",
       "      <th>1</th>\n",
       "      <td>50.0</td>\n",
       "      <td>5</td>\n",
       "      <td>9</td>\n",
       "      <td>13.0</td>\n",
       "      <td>2</td>\n",
       "      <td>3</td>\n",
       "      <td>0</td>\n",
       "      <td>4</td>\n",
       "      <td>1</td>\n",
       "      <td>0.0</td>\n",
       "      <td>0.0</td>\n",
       "      <td>32.5</td>\n",
       "      <td>38</td>\n",
       "      <td>&lt;=50K</td>\n",
       "    </tr>\n",
       "    <tr>\n",
       "      <th>2</th>\n",
       "      <td>38.0</td>\n",
       "      <td>3</td>\n",
       "      <td>11</td>\n",
       "      <td>9.0</td>\n",
       "      <td>0</td>\n",
       "      <td>5</td>\n",
       "      <td>1</td>\n",
       "      <td>4</td>\n",
       "      <td>1</td>\n",
       "      <td>0.0</td>\n",
       "      <td>0.0</td>\n",
       "      <td>40.0</td>\n",
       "      <td>38</td>\n",
       "      <td>&lt;=50K</td>\n",
       "    </tr>\n",
       "    <tr>\n",
       "      <th>3</th>\n",
       "      <td>53.0</td>\n",
       "      <td>3</td>\n",
       "      <td>1</td>\n",
       "      <td>7.0</td>\n",
       "      <td>2</td>\n",
       "      <td>5</td>\n",
       "      <td>0</td>\n",
       "      <td>2</td>\n",
       "      <td>1</td>\n",
       "      <td>0.0</td>\n",
       "      <td>0.0</td>\n",
       "      <td>40.0</td>\n",
       "      <td>38</td>\n",
       "      <td>&lt;=50K</td>\n",
       "    </tr>\n",
       "    <tr>\n",
       "      <th>4</th>\n",
       "      <td>28.0</td>\n",
       "      <td>3</td>\n",
       "      <td>9</td>\n",
       "      <td>13.0</td>\n",
       "      <td>2</td>\n",
       "      <td>9</td>\n",
       "      <td>5</td>\n",
       "      <td>2</td>\n",
       "      <td>0</td>\n",
       "      <td>0.0</td>\n",
       "      <td>0.0</td>\n",
       "      <td>40.0</td>\n",
       "      <td>4</td>\n",
       "      <td>&lt;=50K</td>\n",
       "    </tr>\n",
       "    <tr>\n",
       "      <th>...</th>\n",
       "      <td>...</td>\n",
       "      <td>...</td>\n",
       "      <td>...</td>\n",
       "      <td>...</td>\n",
       "      <td>...</td>\n",
       "      <td>...</td>\n",
       "      <td>...</td>\n",
       "      <td>...</td>\n",
       "      <td>...</td>\n",
       "      <td>...</td>\n",
       "      <td>...</td>\n",
       "      <td>...</td>\n",
       "      <td>...</td>\n",
       "      <td>...</td>\n",
       "    </tr>\n",
       "    <tr>\n",
       "      <th>32556</th>\n",
       "      <td>27.0</td>\n",
       "      <td>3</td>\n",
       "      <td>7</td>\n",
       "      <td>12.0</td>\n",
       "      <td>2</td>\n",
       "      <td>12</td>\n",
       "      <td>5</td>\n",
       "      <td>4</td>\n",
       "      <td>0</td>\n",
       "      <td>0.0</td>\n",
       "      <td>0.0</td>\n",
       "      <td>38.0</td>\n",
       "      <td>38</td>\n",
       "      <td>&lt;=50K</td>\n",
       "    </tr>\n",
       "    <tr>\n",
       "      <th>32557</th>\n",
       "      <td>40.0</td>\n",
       "      <td>3</td>\n",
       "      <td>11</td>\n",
       "      <td>9.0</td>\n",
       "      <td>2</td>\n",
       "      <td>6</td>\n",
       "      <td>0</td>\n",
       "      <td>4</td>\n",
       "      <td>1</td>\n",
       "      <td>0.0</td>\n",
       "      <td>0.0</td>\n",
       "      <td>40.0</td>\n",
       "      <td>38</td>\n",
       "      <td>&gt;50K</td>\n",
       "    </tr>\n",
       "    <tr>\n",
       "      <th>32558</th>\n",
       "      <td>58.0</td>\n",
       "      <td>3</td>\n",
       "      <td>11</td>\n",
       "      <td>9.0</td>\n",
       "      <td>6</td>\n",
       "      <td>0</td>\n",
       "      <td>4</td>\n",
       "      <td>4</td>\n",
       "      <td>0</td>\n",
       "      <td>0.0</td>\n",
       "      <td>0.0</td>\n",
       "      <td>40.0</td>\n",
       "      <td>38</td>\n",
       "      <td>&lt;=50K</td>\n",
       "    </tr>\n",
       "    <tr>\n",
       "      <th>32559</th>\n",
       "      <td>22.0</td>\n",
       "      <td>3</td>\n",
       "      <td>11</td>\n",
       "      <td>9.0</td>\n",
       "      <td>4</td>\n",
       "      <td>0</td>\n",
       "      <td>3</td>\n",
       "      <td>4</td>\n",
       "      <td>1</td>\n",
       "      <td>0.0</td>\n",
       "      <td>0.0</td>\n",
       "      <td>32.5</td>\n",
       "      <td>38</td>\n",
       "      <td>&lt;=50K</td>\n",
       "    </tr>\n",
       "    <tr>\n",
       "      <th>32560</th>\n",
       "      <td>52.0</td>\n",
       "      <td>4</td>\n",
       "      <td>11</td>\n",
       "      <td>9.0</td>\n",
       "      <td>2</td>\n",
       "      <td>3</td>\n",
       "      <td>5</td>\n",
       "      <td>4</td>\n",
       "      <td>0</td>\n",
       "      <td>0.0</td>\n",
       "      <td>0.0</td>\n",
       "      <td>40.0</td>\n",
       "      <td>38</td>\n",
       "      <td>&gt;50K</td>\n",
       "    </tr>\n",
       "  </tbody>\n",
       "</table>\n",
       "<p>32561 rows × 14 columns</p>\n",
       "</div>"
      ],
      "text/plain": [
       "        age  workclass  education  education-num  marital-status  occupation  \\\n",
       "0      39.0          6          9           13.0               4           0   \n",
       "1      50.0          5          9           13.0               2           3   \n",
       "2      38.0          3         11            9.0               0           5   \n",
       "3      53.0          3          1            7.0               2           5   \n",
       "4      28.0          3          9           13.0               2           9   \n",
       "...     ...        ...        ...            ...             ...         ...   \n",
       "32556  27.0          3          7           12.0               2          12   \n",
       "32557  40.0          3         11            9.0               2           6   \n",
       "32558  58.0          3         11            9.0               6           0   \n",
       "32559  22.0          3         11            9.0               4           0   \n",
       "32560  52.0          4         11            9.0               2           3   \n",
       "\n",
       "       relationship  race  sex  capital-gain  capital-loss  hours-per-week  \\\n",
       "0                 1     4    1           0.0           0.0            40.0   \n",
       "1                 0     4    1           0.0           0.0            32.5   \n",
       "2                 1     4    1           0.0           0.0            40.0   \n",
       "3                 0     2    1           0.0           0.0            40.0   \n",
       "4                 5     2    0           0.0           0.0            40.0   \n",
       "...             ...   ...  ...           ...           ...             ...   \n",
       "32556             5     4    0           0.0           0.0            38.0   \n",
       "32557             0     4    1           0.0           0.0            40.0   \n",
       "32558             4     4    0           0.0           0.0            40.0   \n",
       "32559             3     4    1           0.0           0.0            32.5   \n",
       "32560             5     4    0           0.0           0.0            40.0   \n",
       "\n",
       "       native-country salary  \n",
       "0                  38  <=50K  \n",
       "1                  38  <=50K  \n",
       "2                  38  <=50K  \n",
       "3                  38  <=50K  \n",
       "4                   4  <=50K  \n",
       "...               ...    ...  \n",
       "32556              38  <=50K  \n",
       "32557              38   >50K  \n",
       "32558              38  <=50K  \n",
       "32559              38  <=50K  \n",
       "32560              38   >50K  \n",
       "\n",
       "[32561 rows x 14 columns]"
      ]
     },
     "execution_count": 34,
     "metadata": {},
     "output_type": "execute_result"
    }
   ],
   "source": [
    "ds"
   ]
  },
  {
   "cell_type": "code",
   "execution_count": 35,
   "id": "636d5039",
   "metadata": {},
   "outputs": [
    {
     "name": "stdout",
     "output_type": "stream",
     "text": [
      "{0: 0, 1: 1, 2: 2, 3: 3, 4: 4, 5: 5, 6: 6, 7: 7}\n",
      "{0: 0, 1: 1, 2: 2, 3: 3, 4: 4, 5: 5, 6: 6, 7: 7, 8: 8, 9: 9, 10: 10, 11: 11, 12: 12, 13: 13, 14: 14, 15: 15}\n",
      "{0: 0, 1: 1, 2: 2, 3: 3, 4: 4, 5: 5, 6: 6}\n",
      "{0: 0, 1: 1, 2: 2, 3: 3, 4: 4, 5: 5, 6: 6, 7: 7, 8: 8, 9: 9, 10: 10, 11: 11, 12: 12, 13: 13}\n"
     ]
    }
   ],
   "source": [
    "for i in ['workclass', 'education','marital-status','occupation']:  \n",
    "    ds[i]=label.fit_transform(ds[i])\n",
    "    le_name_mapping =dict((zip(label.classes_, label.transform(label.classes_))))\n",
    "    print(le_name_mapping)"
   ]
  },
  {
   "cell_type": "markdown",
   "id": "8e8f48c9",
   "metadata": {},
   "source": [
    "# Standardization"
   ]
  },
  {
   "cell_type": "code",
   "execution_count": 36,
   "id": "973bb3cf",
   "metadata": {},
   "outputs": [],
   "source": [
    "scale_col = ['age',  'education-num', 'capital-gain',\n",
    "       'capital-loss', 'hours-per-week']\n",
    "\n",
    "from sklearn.preprocessing import StandardScaler\n",
    "\n",
    "std = StandardScaler()\n",
    "\n",
    "ds[scale_col]= std.fit_transform(ds[scale_col])"
   ]
  },
  {
   "cell_type": "code",
   "execution_count": 37,
   "id": "81db1dbb",
   "metadata": {},
   "outputs": [
    {
     "data": {
      "text/html": [
       "<div>\n",
       "<style scoped>\n",
       "    .dataframe tbody tr th:only-of-type {\n",
       "        vertical-align: middle;\n",
       "    }\n",
       "\n",
       "    .dataframe tbody tr th {\n",
       "        vertical-align: top;\n",
       "    }\n",
       "\n",
       "    .dataframe thead th {\n",
       "        text-align: right;\n",
       "    }\n",
       "</style>\n",
       "<table border=\"1\" class=\"dataframe\">\n",
       "  <thead>\n",
       "    <tr style=\"text-align: right;\">\n",
       "      <th></th>\n",
       "      <th>age</th>\n",
       "      <th>workclass</th>\n",
       "      <th>education</th>\n",
       "      <th>education-num</th>\n",
       "      <th>marital-status</th>\n",
       "      <th>occupation</th>\n",
       "      <th>relationship</th>\n",
       "      <th>race</th>\n",
       "      <th>sex</th>\n",
       "      <th>capital-gain</th>\n",
       "      <th>capital-loss</th>\n",
       "      <th>hours-per-week</th>\n",
       "      <th>native-country</th>\n",
       "      <th>salary</th>\n",
       "    </tr>\n",
       "  </thead>\n",
       "  <tbody>\n",
       "    <tr>\n",
       "      <th>0</th>\n",
       "      <td>0.032782</td>\n",
       "      <td>6</td>\n",
       "      <td>9</td>\n",
       "      <td>1.169103</td>\n",
       "      <td>4</td>\n",
       "      <td>0</td>\n",
       "      <td>1</td>\n",
       "      <td>4</td>\n",
       "      <td>1</td>\n",
       "      <td>0.0</td>\n",
       "      <td>0.0</td>\n",
       "      <td>-0.194354</td>\n",
       "      <td>38</td>\n",
       "      <td>&lt;=50K</td>\n",
       "    </tr>\n",
       "    <tr>\n",
       "      <th>1</th>\n",
       "      <td>0.844236</td>\n",
       "      <td>5</td>\n",
       "      <td>9</td>\n",
       "      <td>1.169103</td>\n",
       "      <td>2</td>\n",
       "      <td>3</td>\n",
       "      <td>0</td>\n",
       "      <td>4</td>\n",
       "      <td>1</td>\n",
       "      <td>0.0</td>\n",
       "      <td>0.0</td>\n",
       "      <td>-1.406591</td>\n",
       "      <td>38</td>\n",
       "      <td>&lt;=50K</td>\n",
       "    </tr>\n",
       "    <tr>\n",
       "      <th>2</th>\n",
       "      <td>-0.040986</td>\n",
       "      <td>3</td>\n",
       "      <td>11</td>\n",
       "      <td>-0.457091</td>\n",
       "      <td>0</td>\n",
       "      <td>5</td>\n",
       "      <td>1</td>\n",
       "      <td>4</td>\n",
       "      <td>1</td>\n",
       "      <td>0.0</td>\n",
       "      <td>0.0</td>\n",
       "      <td>-0.194354</td>\n",
       "      <td>38</td>\n",
       "      <td>&lt;=50K</td>\n",
       "    </tr>\n",
       "    <tr>\n",
       "      <th>3</th>\n",
       "      <td>1.065541</td>\n",
       "      <td>3</td>\n",
       "      <td>1</td>\n",
       "      <td>-1.270187</td>\n",
       "      <td>2</td>\n",
       "      <td>5</td>\n",
       "      <td>0</td>\n",
       "      <td>2</td>\n",
       "      <td>1</td>\n",
       "      <td>0.0</td>\n",
       "      <td>0.0</td>\n",
       "      <td>-0.194354</td>\n",
       "      <td>38</td>\n",
       "      <td>&lt;=50K</td>\n",
       "    </tr>\n",
       "    <tr>\n",
       "      <th>4</th>\n",
       "      <td>-0.778671</td>\n",
       "      <td>3</td>\n",
       "      <td>9</td>\n",
       "      <td>1.169103</td>\n",
       "      <td>2</td>\n",
       "      <td>9</td>\n",
       "      <td>5</td>\n",
       "      <td>2</td>\n",
       "      <td>0</td>\n",
       "      <td>0.0</td>\n",
       "      <td>0.0</td>\n",
       "      <td>-0.194354</td>\n",
       "      <td>4</td>\n",
       "      <td>&lt;=50K</td>\n",
       "    </tr>\n",
       "    <tr>\n",
       "      <th>...</th>\n",
       "      <td>...</td>\n",
       "      <td>...</td>\n",
       "      <td>...</td>\n",
       "      <td>...</td>\n",
       "      <td>...</td>\n",
       "      <td>...</td>\n",
       "      <td>...</td>\n",
       "      <td>...</td>\n",
       "      <td>...</td>\n",
       "      <td>...</td>\n",
       "      <td>...</td>\n",
       "      <td>...</td>\n",
       "      <td>...</td>\n",
       "      <td>...</td>\n",
       "    </tr>\n",
       "    <tr>\n",
       "      <th>32556</th>\n",
       "      <td>-0.852440</td>\n",
       "      <td>3</td>\n",
       "      <td>7</td>\n",
       "      <td>0.762554</td>\n",
       "      <td>2</td>\n",
       "      <td>12</td>\n",
       "      <td>5</td>\n",
       "      <td>4</td>\n",
       "      <td>0</td>\n",
       "      <td>0.0</td>\n",
       "      <td>0.0</td>\n",
       "      <td>-0.517617</td>\n",
       "      <td>38</td>\n",
       "      <td>&lt;=50K</td>\n",
       "    </tr>\n",
       "    <tr>\n",
       "      <th>32557</th>\n",
       "      <td>0.106551</td>\n",
       "      <td>3</td>\n",
       "      <td>11</td>\n",
       "      <td>-0.457091</td>\n",
       "      <td>2</td>\n",
       "      <td>6</td>\n",
       "      <td>0</td>\n",
       "      <td>4</td>\n",
       "      <td>1</td>\n",
       "      <td>0.0</td>\n",
       "      <td>0.0</td>\n",
       "      <td>-0.194354</td>\n",
       "      <td>38</td>\n",
       "      <td>&gt;50K</td>\n",
       "    </tr>\n",
       "    <tr>\n",
       "      <th>32558</th>\n",
       "      <td>1.434384</td>\n",
       "      <td>3</td>\n",
       "      <td>11</td>\n",
       "      <td>-0.457091</td>\n",
       "      <td>6</td>\n",
       "      <td>0</td>\n",
       "      <td>4</td>\n",
       "      <td>4</td>\n",
       "      <td>0</td>\n",
       "      <td>0.0</td>\n",
       "      <td>0.0</td>\n",
       "      <td>-0.194354</td>\n",
       "      <td>38</td>\n",
       "      <td>&lt;=50K</td>\n",
       "    </tr>\n",
       "    <tr>\n",
       "      <th>32559</th>\n",
       "      <td>-1.221282</td>\n",
       "      <td>3</td>\n",
       "      <td>11</td>\n",
       "      <td>-0.457091</td>\n",
       "      <td>4</td>\n",
       "      <td>0</td>\n",
       "      <td>3</td>\n",
       "      <td>4</td>\n",
       "      <td>1</td>\n",
       "      <td>0.0</td>\n",
       "      <td>0.0</td>\n",
       "      <td>-1.406591</td>\n",
       "      <td>38</td>\n",
       "      <td>&lt;=50K</td>\n",
       "    </tr>\n",
       "    <tr>\n",
       "      <th>32560</th>\n",
       "      <td>0.991773</td>\n",
       "      <td>4</td>\n",
       "      <td>11</td>\n",
       "      <td>-0.457091</td>\n",
       "      <td>2</td>\n",
       "      <td>3</td>\n",
       "      <td>5</td>\n",
       "      <td>4</td>\n",
       "      <td>0</td>\n",
       "      <td>0.0</td>\n",
       "      <td>0.0</td>\n",
       "      <td>-0.194354</td>\n",
       "      <td>38</td>\n",
       "      <td>&gt;50K</td>\n",
       "    </tr>\n",
       "  </tbody>\n",
       "</table>\n",
       "<p>32561 rows × 14 columns</p>\n",
       "</div>"
      ],
      "text/plain": [
       "            age  workclass  education  education-num  marital-status  \\\n",
       "0      0.032782          6          9       1.169103               4   \n",
       "1      0.844236          5          9       1.169103               2   \n",
       "2     -0.040986          3         11      -0.457091               0   \n",
       "3      1.065541          3          1      -1.270187               2   \n",
       "4     -0.778671          3          9       1.169103               2   \n",
       "...         ...        ...        ...            ...             ...   \n",
       "32556 -0.852440          3          7       0.762554               2   \n",
       "32557  0.106551          3         11      -0.457091               2   \n",
       "32558  1.434384          3         11      -0.457091               6   \n",
       "32559 -1.221282          3         11      -0.457091               4   \n",
       "32560  0.991773          4         11      -0.457091               2   \n",
       "\n",
       "       occupation  relationship  race  sex  capital-gain  capital-loss  \\\n",
       "0               0             1     4    1           0.0           0.0   \n",
       "1               3             0     4    1           0.0           0.0   \n",
       "2               5             1     4    1           0.0           0.0   \n",
       "3               5             0     2    1           0.0           0.0   \n",
       "4               9             5     2    0           0.0           0.0   \n",
       "...           ...           ...   ...  ...           ...           ...   \n",
       "32556          12             5     4    0           0.0           0.0   \n",
       "32557           6             0     4    1           0.0           0.0   \n",
       "32558           0             4     4    0           0.0           0.0   \n",
       "32559           0             3     4    1           0.0           0.0   \n",
       "32560           3             5     4    0           0.0           0.0   \n",
       "\n",
       "       hours-per-week  native-country salary  \n",
       "0           -0.194354              38  <=50K  \n",
       "1           -1.406591              38  <=50K  \n",
       "2           -0.194354              38  <=50K  \n",
       "3           -0.194354              38  <=50K  \n",
       "4           -0.194354               4  <=50K  \n",
       "...               ...             ...    ...  \n",
       "32556       -0.517617              38  <=50K  \n",
       "32557       -0.194354              38   >50K  \n",
       "32558       -0.194354              38  <=50K  \n",
       "32559       -1.406591              38  <=50K  \n",
       "32560       -0.194354              38   >50K  \n",
       "\n",
       "[32561 rows x 14 columns]"
      ]
     },
     "execution_count": 37,
     "metadata": {},
     "output_type": "execute_result"
    }
   ],
   "source": [
    "ds"
   ]
  },
  {
   "cell_type": "code",
   "execution_count": 38,
   "id": "e776e924",
   "metadata": {},
   "outputs": [
    {
     "data": {
      "text/html": [
       "<div>\n",
       "<style scoped>\n",
       "    .dataframe tbody tr th:only-of-type {\n",
       "        vertical-align: middle;\n",
       "    }\n",
       "\n",
       "    .dataframe tbody tr th {\n",
       "        vertical-align: top;\n",
       "    }\n",
       "\n",
       "    .dataframe thead th {\n",
       "        text-align: right;\n",
       "    }\n",
       "</style>\n",
       "<table border=\"1\" class=\"dataframe\">\n",
       "  <thead>\n",
       "    <tr style=\"text-align: right;\">\n",
       "      <th></th>\n",
       "      <th>age</th>\n",
       "      <th>workclass</th>\n",
       "      <th>education</th>\n",
       "      <th>education-num</th>\n",
       "      <th>marital-status</th>\n",
       "      <th>occupation</th>\n",
       "      <th>relationship</th>\n",
       "      <th>race</th>\n",
       "      <th>sex</th>\n",
       "      <th>capital-gain</th>\n",
       "      <th>capital-loss</th>\n",
       "      <th>hours-per-week</th>\n",
       "      <th>native-country</th>\n",
       "    </tr>\n",
       "  </thead>\n",
       "  <tbody>\n",
       "    <tr>\n",
       "      <th>count</th>\n",
       "      <td>3.256100e+04</td>\n",
       "      <td>32561.000000</td>\n",
       "      <td>32561.000000</td>\n",
       "      <td>3.256100e+04</td>\n",
       "      <td>32561.000000</td>\n",
       "      <td>32561.000000</td>\n",
       "      <td>32561.000000</td>\n",
       "      <td>32561.000000</td>\n",
       "      <td>32561.000000</td>\n",
       "      <td>32561.0</td>\n",
       "      <td>32561.0</td>\n",
       "      <td>3.256100e+04</td>\n",
       "      <td>32561.000000</td>\n",
       "    </tr>\n",
       "    <tr>\n",
       "      <th>mean</th>\n",
       "      <td>2.082286e-17</td>\n",
       "      <td>3.094438</td>\n",
       "      <td>10.298210</td>\n",
       "      <td>-2.420116e-16</td>\n",
       "      <td>2.611836</td>\n",
       "      <td>6.138755</td>\n",
       "      <td>1.446362</td>\n",
       "      <td>3.665858</td>\n",
       "      <td>0.669205</td>\n",
       "      <td>0.0</td>\n",
       "      <td>0.0</td>\n",
       "      <td>-9.023712e-16</td>\n",
       "      <td>36.417155</td>\n",
       "    </tr>\n",
       "    <tr>\n",
       "      <th>std</th>\n",
       "      <td>1.000015e+00</td>\n",
       "      <td>1.107194</td>\n",
       "      <td>3.870264</td>\n",
       "      <td>1.000015e+00</td>\n",
       "      <td>1.506222</td>\n",
       "      <td>3.972708</td>\n",
       "      <td>1.606771</td>\n",
       "      <td>0.848806</td>\n",
       "      <td>0.470506</td>\n",
       "      <td>0.0</td>\n",
       "      <td>0.0</td>\n",
       "      <td>1.000015e+00</td>\n",
       "      <td>6.056047</td>\n",
       "    </tr>\n",
       "    <tr>\n",
       "      <th>min</th>\n",
       "      <td>-1.590124e+00</td>\n",
       "      <td>0.000000</td>\n",
       "      <td>0.000000</td>\n",
       "      <td>-2.286558e+00</td>\n",
       "      <td>0.000000</td>\n",
       "      <td>0.000000</td>\n",
       "      <td>0.000000</td>\n",
       "      <td>0.000000</td>\n",
       "      <td>0.000000</td>\n",
       "      <td>0.0</td>\n",
       "      <td>0.0</td>\n",
       "      <td>-1.406591e+00</td>\n",
       "      <td>0.000000</td>\n",
       "    </tr>\n",
       "    <tr>\n",
       "      <th>25%</th>\n",
       "      <td>-7.786710e-01</td>\n",
       "      <td>3.000000</td>\n",
       "      <td>9.000000</td>\n",
       "      <td>-4.570906e-01</td>\n",
       "      <td>2.000000</td>\n",
       "      <td>3.000000</td>\n",
       "      <td>0.000000</td>\n",
       "      <td>4.000000</td>\n",
       "      <td>0.000000</td>\n",
       "      <td>0.0</td>\n",
       "      <td>0.0</td>\n",
       "      <td>-1.943540e-01</td>\n",
       "      <td>38.000000</td>\n",
       "    </tr>\n",
       "    <tr>\n",
       "      <th>50%</th>\n",
       "      <td>-1.147545e-01</td>\n",
       "      <td>3.000000</td>\n",
       "      <td>11.000000</td>\n",
       "      <td>-5.054229e-02</td>\n",
       "      <td>2.000000</td>\n",
       "      <td>6.000000</td>\n",
       "      <td>1.000000</td>\n",
       "      <td>4.000000</td>\n",
       "      <td>1.000000</td>\n",
       "      <td>0.0</td>\n",
       "      <td>0.0</td>\n",
       "      <td>-1.943540e-01</td>\n",
       "      <td>38.000000</td>\n",
       "    </tr>\n",
       "    <tr>\n",
       "      <th>75%</th>\n",
       "      <td>6.966990e-01</td>\n",
       "      <td>3.000000</td>\n",
       "      <td>12.000000</td>\n",
       "      <td>7.625543e-01</td>\n",
       "      <td>4.000000</td>\n",
       "      <td>9.000000</td>\n",
       "      <td>3.000000</td>\n",
       "      <td>4.000000</td>\n",
       "      <td>1.000000</td>\n",
       "      <td>0.0</td>\n",
       "      <td>0.0</td>\n",
       "      <td>6.138038e-01</td>\n",
       "      <td>38.000000</td>\n",
       "    </tr>\n",
       "    <tr>\n",
       "      <th>max</th>\n",
       "      <td>2.909754e+00</td>\n",
       "      <td>7.000000</td>\n",
       "      <td>15.000000</td>\n",
       "      <td>2.388748e+00</td>\n",
       "      <td>6.000000</td>\n",
       "      <td>13.000000</td>\n",
       "      <td>5.000000</td>\n",
       "      <td>4.000000</td>\n",
       "      <td>1.000000</td>\n",
       "      <td>0.0</td>\n",
       "      <td>0.0</td>\n",
       "      <td>1.826041e+00</td>\n",
       "      <td>40.000000</td>\n",
       "    </tr>\n",
       "  </tbody>\n",
       "</table>\n",
       "</div>"
      ],
      "text/plain": [
       "                age     workclass     education  education-num  \\\n",
       "count  3.256100e+04  32561.000000  32561.000000   3.256100e+04   \n",
       "mean   2.082286e-17      3.094438     10.298210  -2.420116e-16   \n",
       "std    1.000015e+00      1.107194      3.870264   1.000015e+00   \n",
       "min   -1.590124e+00      0.000000      0.000000  -2.286558e+00   \n",
       "25%   -7.786710e-01      3.000000      9.000000  -4.570906e-01   \n",
       "50%   -1.147545e-01      3.000000     11.000000  -5.054229e-02   \n",
       "75%    6.966990e-01      3.000000     12.000000   7.625543e-01   \n",
       "max    2.909754e+00      7.000000     15.000000   2.388748e+00   \n",
       "\n",
       "       marital-status    occupation  relationship          race           sex  \\\n",
       "count    32561.000000  32561.000000  32561.000000  32561.000000  32561.000000   \n",
       "mean         2.611836      6.138755      1.446362      3.665858      0.669205   \n",
       "std          1.506222      3.972708      1.606771      0.848806      0.470506   \n",
       "min          0.000000      0.000000      0.000000      0.000000      0.000000   \n",
       "25%          2.000000      3.000000      0.000000      4.000000      0.000000   \n",
       "50%          2.000000      6.000000      1.000000      4.000000      1.000000   \n",
       "75%          4.000000      9.000000      3.000000      4.000000      1.000000   \n",
       "max          6.000000     13.000000      5.000000      4.000000      1.000000   \n",
       "\n",
       "       capital-gain  capital-loss  hours-per-week  native-country  \n",
       "count       32561.0       32561.0    3.256100e+04    32561.000000  \n",
       "mean            0.0           0.0   -9.023712e-16       36.417155  \n",
       "std             0.0           0.0    1.000015e+00        6.056047  \n",
       "min             0.0           0.0   -1.406591e+00        0.000000  \n",
       "25%             0.0           0.0   -1.943540e-01       38.000000  \n",
       "50%             0.0           0.0   -1.943540e-01       38.000000  \n",
       "75%             0.0           0.0    6.138038e-01       38.000000  \n",
       "max             0.0           0.0    1.826041e+00       40.000000  "
      ]
     },
     "execution_count": 38,
     "metadata": {},
     "output_type": "execute_result"
    }
   ],
   "source": [
    "ds.describe()"
   ]
  },
  {
   "cell_type": "code",
   "execution_count": 39,
   "id": "64426d3d",
   "metadata": {},
   "outputs": [
    {
     "data": {
      "text/html": [
       "<div>\n",
       "<style scoped>\n",
       "    .dataframe tbody tr th:only-of-type {\n",
       "        vertical-align: middle;\n",
       "    }\n",
       "\n",
       "    .dataframe tbody tr th {\n",
       "        vertical-align: top;\n",
       "    }\n",
       "\n",
       "    .dataframe thead th {\n",
       "        text-align: right;\n",
       "    }\n",
       "</style>\n",
       "<table border=\"1\" class=\"dataframe\">\n",
       "  <thead>\n",
       "    <tr style=\"text-align: right;\">\n",
       "      <th></th>\n",
       "      <th>age</th>\n",
       "      <th>workclass</th>\n",
       "      <th>education</th>\n",
       "      <th>marital-status</th>\n",
       "      <th>occupation</th>\n",
       "      <th>relationship</th>\n",
       "      <th>race</th>\n",
       "      <th>sex</th>\n",
       "      <th>hours-per-week</th>\n",
       "      <th>native-country</th>\n",
       "      <th>salary</th>\n",
       "    </tr>\n",
       "  </thead>\n",
       "  <tbody>\n",
       "    <tr>\n",
       "      <th>0</th>\n",
       "      <td>0.032782</td>\n",
       "      <td>6</td>\n",
       "      <td>9</td>\n",
       "      <td>4</td>\n",
       "      <td>0</td>\n",
       "      <td>1</td>\n",
       "      <td>4</td>\n",
       "      <td>1</td>\n",
       "      <td>-0.194354</td>\n",
       "      <td>38</td>\n",
       "      <td>&lt;=50K</td>\n",
       "    </tr>\n",
       "    <tr>\n",
       "      <th>1</th>\n",
       "      <td>0.844236</td>\n",
       "      <td>5</td>\n",
       "      <td>9</td>\n",
       "      <td>2</td>\n",
       "      <td>3</td>\n",
       "      <td>0</td>\n",
       "      <td>4</td>\n",
       "      <td>1</td>\n",
       "      <td>-1.406591</td>\n",
       "      <td>38</td>\n",
       "      <td>&lt;=50K</td>\n",
       "    </tr>\n",
       "    <tr>\n",
       "      <th>2</th>\n",
       "      <td>-0.040986</td>\n",
       "      <td>3</td>\n",
       "      <td>11</td>\n",
       "      <td>0</td>\n",
       "      <td>5</td>\n",
       "      <td>1</td>\n",
       "      <td>4</td>\n",
       "      <td>1</td>\n",
       "      <td>-0.194354</td>\n",
       "      <td>38</td>\n",
       "      <td>&lt;=50K</td>\n",
       "    </tr>\n",
       "    <tr>\n",
       "      <th>3</th>\n",
       "      <td>1.065541</td>\n",
       "      <td>3</td>\n",
       "      <td>1</td>\n",
       "      <td>2</td>\n",
       "      <td>5</td>\n",
       "      <td>0</td>\n",
       "      <td>2</td>\n",
       "      <td>1</td>\n",
       "      <td>-0.194354</td>\n",
       "      <td>38</td>\n",
       "      <td>&lt;=50K</td>\n",
       "    </tr>\n",
       "    <tr>\n",
       "      <th>4</th>\n",
       "      <td>-0.778671</td>\n",
       "      <td>3</td>\n",
       "      <td>9</td>\n",
       "      <td>2</td>\n",
       "      <td>9</td>\n",
       "      <td>5</td>\n",
       "      <td>2</td>\n",
       "      <td>0</td>\n",
       "      <td>-0.194354</td>\n",
       "      <td>4</td>\n",
       "      <td>&lt;=50K</td>\n",
       "    </tr>\n",
       "  </tbody>\n",
       "</table>\n",
       "</div>"
      ],
      "text/plain": [
       "        age  workclass  education  marital-status  occupation  relationship  \\\n",
       "0  0.032782          6          9               4           0             1   \n",
       "1  0.844236          5          9               2           3             0   \n",
       "2 -0.040986          3         11               0           5             1   \n",
       "3  1.065541          3          1               2           5             0   \n",
       "4 -0.778671          3          9               2           9             5   \n",
       "\n",
       "   race  sex  hours-per-week  native-country salary  \n",
       "0     4    1       -0.194354              38  <=50K  \n",
       "1     4    1       -1.406591              38  <=50K  \n",
       "2     4    1       -0.194354              38  <=50K  \n",
       "3     2    1       -0.194354              38  <=50K  \n",
       "4     2    0       -0.194354               4  <=50K  "
      ]
     },
     "execution_count": 39,
     "metadata": {},
     "output_type": "execute_result"
    }
   ],
   "source": [
    "ds.drop(['capital-gain','capital-loss','education-num'], axis = 1,inplace = True)\n",
    "ds.head()"
   ]
  },
  {
   "cell_type": "markdown",
   "id": "f6853f9e",
   "metadata": {},
   "source": [
    "Feature engineering\n",
    "\n",
    "\n",
    "  While analyzing the dataset,\n",
    "As we can see in 'descriptive statistics - Numerical columns',\n",
    "'capital-gain'and 'capital-loss'  columns have 75% data as 0.00\n",
    "  - So, we can drop 'capital-gain'& 'capital-loss'  columns. \n",
    "The column,education-num is the numerical version of the column education, so we also drop it."
   ]
  },
  {
   "cell_type": "markdown",
   "id": "fee2018f",
   "metadata": {},
   "source": [
    "# Split dataset into test and train"
   ]
  },
  {
   "cell_type": "code",
   "execution_count": 40,
   "id": "6428b0ab",
   "metadata": {},
   "outputs": [],
   "source": [
    "\n",
    "from sklearn.model_selection import train_test_split"
   ]
  },
  {
   "cell_type": "code",
   "execution_count": 41,
   "id": "e2ba77fe",
   "metadata": {},
   "outputs": [],
   "source": [
    "X = ds.drop('salary', axis=1)\n",
    "y= ds['salary']"
   ]
  },
  {
   "cell_type": "code",
   "execution_count": 42,
   "id": "65b900a1",
   "metadata": {},
   "outputs": [],
   "source": [
    "X_train, X_test, y_train, y_test = train_test_split(X,y ,test_size=0.25, random_state=42, stratify=y)"
   ]
  },
  {
   "cell_type": "code",
   "execution_count": 43,
   "id": "5ef8a574",
   "metadata": {},
   "outputs": [
    {
     "data": {
      "text/plain": [
       "<=50K    24720\n",
       ">50K      7841\n",
       "Name: salary, dtype: int64"
      ]
     },
     "execution_count": 43,
     "metadata": {},
     "output_type": "execute_result"
    }
   ],
   "source": [
    "ds['salary'].value_counts()"
   ]
  },
  {
   "cell_type": "code",
   "execution_count": 44,
   "id": "d53dfb5c",
   "metadata": {},
   "outputs": [
    {
     "data": {
      "text/plain": [
       "2    14976\n",
       "4    10683\n",
       "0     4443\n",
       "5     1025\n",
       "6      993\n",
       "3      418\n",
       "1       23\n",
       "Name: marital-status, dtype: int64"
      ]
     },
     "execution_count": 44,
     "metadata": {},
     "output_type": "execute_result"
    }
   ],
   "source": [
    "ds['marital-status'].value_counts()\n"
   ]
  },
  {
   "cell_type": "markdown",
   "id": "4cc344c7",
   "metadata": {},
   "source": [
    "# Modelling\n"
   ]
  },
  {
   "cell_type": "code",
   "execution_count": 45,
   "id": "522253fd",
   "metadata": {},
   "outputs": [],
   "source": [
    "# split data into test and train\n",
    "from sklearn.model_selection import train_test_split"
   ]
  },
  {
   "cell_type": "code",
   "execution_count": 46,
   "id": "06dbd31d",
   "metadata": {},
   "outputs": [],
   "source": [
    "X_train, X_test, y_train, y_test = train_test_split(X,y ,test_size=0.25, random_state=42, stratify=y)"
   ]
  },
  {
   "cell_type": "code",
   "execution_count": 47,
   "id": "824f34a5",
   "metadata": {},
   "outputs": [
    {
     "name": "stdout",
     "output_type": "stream",
     "text": [
      "Length of y train 24420\n",
      "Length of y test 8141\n"
     ]
    }
   ],
   "source": [
    "print(\"Length of y train\",len(y_train))\n",
    "print(\"Length of y test\",len(y_test))"
   ]
  },
  {
   "cell_type": "markdown",
   "id": "c74e9619",
   "metadata": {},
   "source": [
    "# 1) Logistic Regression\n",
    "In logistic regression, the model predicts the probability that an instance belongs to a particular class. This probability is represented by a value between 0 and 1, where 0 indicates that the instance definitely does not belong to the class and 1 indicates that it definitely does.To make these predictions, logistic regression uses a logistic function, which takes in a linear combination of the input features and maps it to a value between 0 and 1."
   ]
  },
  {
   "cell_type": "code",
   "execution_count": 48,
   "id": "4a73fbb7",
   "metadata": {},
   "outputs": [],
   "source": [
    "\n",
    "from sklearn.metrics import confusion_matrix, accuracy_score, f1_score,precision_score,recall_score,classification_report"
   ]
  },
  {
   "cell_type": "code",
   "execution_count": 49,
   "id": "94da68c6",
   "metadata": {},
   "outputs": [
    {
     "name": "stdout",
     "output_type": "stream",
     "text": [
      "The confusion matrix of logistic regression is \n",
      " [[5771  410]\n",
      " [1478  482]]\n",
      "Accuracy: 76.80874585431765\n"
     ]
    }
   ],
   "source": [
    "from sklearn.linear_model import LogisticRegression\n",
    "lr=LogisticRegression(max_iter=2000)\n",
    "lr.fit(X_train,y_train)\n",
    "pred_lr=lr.predict(X_test)\n",
    "con_lr=confusion_matrix(y_test,pred_lr)\n",
    "print(\"The confusion matrix of logistic regression is \\n\",con_lr)\n",
    "ac_lr=accuracy_score(y_test,pred_lr)\n",
    "print('Accuracy:',ac_lr*100)"
   ]
  },
  {
   "cell_type": "code",
   "execution_count": 50,
   "id": "c85e6cee",
   "metadata": {},
   "outputs": [
    {
     "name": "stdout",
     "output_type": "stream",
     "text": [
      "              precision    recall  f1-score   support\n",
      "\n",
      "       <=50K       0.80      0.93      0.86      6181\n",
      "        >50K       0.54      0.25      0.34      1960\n",
      "\n",
      "    accuracy                           0.77      8141\n",
      "   macro avg       0.67      0.59      0.60      8141\n",
      "weighted avg       0.73      0.77      0.73      8141\n",
      "\n"
     ]
    }
   ],
   "source": [
    "print(classification_report(y_test,pred_lr))"
   ]
  },
  {
   "cell_type": "markdown",
   "id": "f761934d",
   "metadata": {},
   "source": [
    "*Precision is the fraction of predicted positive instances that are actually positive, and is calculated as TP / (TP + FP). It gives you an idea of the proportion of positive predictions that are correct. High precision means that the model is good at not labeling negative instances as positive.\n",
    "\n",
    "*Recall is the fraction of actual positive instances that were predicted to be positive, and is calculated as TP / (TP + FN). It gives you an idea of the proportion of positive instances that the model was able to identify. High recall means that the model is good at finding all the positive instances.\n",
    "\n",
    "*The F1 score is the harmonic mean of precision and recall, and is calculated as 2 * (precision * recall) / (precision + recall). It is a balanced metric that takes into account both precision and recall.\n",
    "Support is the number of instances in each class.\n",
    "\n",
    "*Accuracy is the fraction of correct predictions made by the model, and is calculated as (TP + TN) / (TP + TN + FP + FN). It gives you an idea of the overall accuracy of the model."
   ]
  },
  {
   "cell_type": "code",
   "execution_count": 51,
   "id": "abb6024b",
   "metadata": {},
   "outputs": [
    {
     "data": {
      "text/plain": [
       "17581    <=50K\n",
       "16280    <=50K\n",
       "24719    <=50K\n",
       "3986     <=50K\n",
       "5138     <=50K\n",
       "         ...  \n",
       "6837     <=50K\n",
       "7133     <=50K\n",
       "25363    <=50K\n",
       "13085    <=50K\n",
       "12672    <=50K\n",
       "Name: salary, Length: 8141, dtype: object"
      ]
     },
     "execution_count": 51,
     "metadata": {},
     "output_type": "execute_result"
    }
   ],
   "source": [
    "y_test"
   ]
  },
  {
   "cell_type": "code",
   "execution_count": 52,
   "id": "7f3198b3",
   "metadata": {},
   "outputs": [
    {
     "data": {
      "text/plain": [
       "array(['<=50K', '<=50K', '<=50K', '<=50K', '<=50K', '<=50K', '<=50K',\n",
       "       '<=50K', '<=50K', '>50K', '<=50K', '<=50K', '<=50K', '<=50K',\n",
       "       '<=50K', '<=50K', '<=50K', '<=50K', '>50K', '<=50K', '>50K',\n",
       "       '<=50K', '<=50K', '<=50K', '>50K', '<=50K', '<=50K', '<=50K',\n",
       "       '<=50K', '<=50K', '<=50K', '>50K', '<=50K', '<=50K', '<=50K',\n",
       "       '<=50K', '<=50K', '<=50K', '<=50K', '<=50K', '<=50K', '<=50K',\n",
       "       '<=50K', '<=50K', '<=50K', '<=50K', '<=50K', '<=50K', '<=50K',\n",
       "       '<=50K', '<=50K', '<=50K', '>50K', '<=50K', '>50K', '<=50K',\n",
       "       '<=50K', '<=50K', '>50K', '<=50K', '<=50K', '<=50K', '<=50K',\n",
       "       '<=50K', '<=50K', '<=50K', '<=50K', '<=50K', '<=50K', '<=50K',\n",
       "       '>50K', '<=50K', '>50K', '>50K', '<=50K', '<=50K', '<=50K', '>50K',\n",
       "       '<=50K', '<=50K', '<=50K', '>50K', '<=50K', '<=50K', '<=50K',\n",
       "       '<=50K', '<=50K', '<=50K', '<=50K', '<=50K', '>50K', '<=50K',\n",
       "       '<=50K', '<=50K', '<=50K', '<=50K', '<=50K', '<=50K', '<=50K',\n",
       "       '<=50K'], dtype=object)"
      ]
     },
     "execution_count": 52,
     "metadata": {},
     "output_type": "execute_result"
    }
   ],
   "source": [
    "pred_lr[:100]"
   ]
  },
  {
   "cell_type": "markdown",
   "id": "5f8e200e",
   "metadata": {},
   "source": [
    "# 2) K Nearest Negihbour Classifier"
   ]
  },
  {
   "cell_type": "code",
   "execution_count": 53,
   "id": "e81d732b",
   "metadata": {},
   "outputs": [],
   "source": [
    "from sklearn.neighbors import KNeighborsClassifier\n",
    "acc_values=[]\n",
    "neighbors=np.arange(70,90)\n",
    "for k in neighbors:\n",
    "    knn=KNeighborsClassifier(n_neighbors=k, metric='minkowski')\n",
    "    knn.fit(X_train, y_train)\n",
    "    pred_knn=knn.predict(X_test)\n",
    "    acc=accuracy_score(y_test, pred_knn)\n",
    "    acc_values.append(acc)\n",
    "    \n",
    "     \n"
   ]
  },
  {
   "cell_type": "code",
   "execution_count": 54,
   "id": "ca01d244",
   "metadata": {},
   "outputs": [
    {
     "data": {
      "text/plain": [
       "Text(0, 0.5, 'accuracy')"
      ]
     },
     "execution_count": 54,
     "metadata": {},
     "output_type": "execute_result"
    },
    {
     "data": {
      "image/png": "[encoded data removed]",
      "text/plain": [
       "<Figure size 640x480 with 1 Axes>"
      ]
     },
     "metadata": {},
     "output_type": "display_data"
    }
   ],
   "source": [
    "plt.plot(neighbors,acc_values,'o-')\n",
    "plt.xlabel('k value')\n",
    "plt.ylabel('accuracy')\n",
    "     \n"
   ]
  },
  {
   "cell_type": "code",
   "execution_count": 55,
   "id": "7a22c292",
   "metadata": {},
   "outputs": [
    {
     "name": "stdout",
     "output_type": "stream",
     "text": [
      "              precision    recall  f1-score   support\n",
      "\n",
      "       <=50K       0.86      0.91      0.88      6181\n",
      "        >50K       0.65      0.52      0.58      1960\n",
      "\n",
      "    accuracy                           0.82      8141\n",
      "   macro avg       0.75      0.72      0.73      8141\n",
      "weighted avg       0.81      0.82      0.81      8141\n",
      "\n"
     ]
    }
   ],
   "source": [
    "\n",
    "print(classification_report(y_test, pred_knn))"
   ]
  },
  {
   "cell_type": "code",
   "execution_count": 56,
   "id": "56ce3fc4",
   "metadata": {},
   "outputs": [
    {
     "data": {
      "text/plain": [
       "array(['<=50K', '<=50K', '<=50K', '<=50K', '<=50K', '<=50K', '<=50K',\n",
       "       '<=50K', '<=50K', '>50K', '<=50K', '<=50K', '<=50K', '<=50K',\n",
       "       '<=50K', '<=50K', '<=50K', '<=50K', '>50K', '<=50K'], dtype=object)"
      ]
     },
     "execution_count": 56,
     "metadata": {},
     "output_type": "execute_result"
    }
   ],
   "source": [
    "pred_knn[:20]"
   ]
  },
  {
   "cell_type": "code",
   "execution_count": 57,
   "id": "407fb331",
   "metadata": {},
   "outputs": [
    {
     "name": "stdout",
     "output_type": "stream",
     "text": [
      "The confusion matrix of knn is \n",
      " [[5636  545]\n",
      " [ 937 1023]]\n",
      "Accuracy: 81.79584817589976\n"
     ]
    }
   ],
   "source": [
    "con_lr=confusion_matrix(y_test,pred_knn)\n",
    "print(\"The confusion matrix of knn is \\n\",con_lr)\n",
    "ac_knn=accuracy_score(y_test,pred_knn)\n",
    "print('Accuracy:',ac_knn*100)"
   ]
  },
  {
   "cell_type": "markdown",
   "id": "028a9133",
   "metadata": {},
   "source": [
    "# 3)Decision Tree classifier"
   ]
  },
  {
   "cell_type": "code",
   "execution_count": 58,
   "id": "addc65e6",
   "metadata": {},
   "outputs": [
    {
     "name": "stdout",
     "output_type": "stream",
     "text": [
      "The confusion matrix of decision tree is \n",
      " [[5323  858]\n",
      " [ 928 1032]]\n",
      "Accuracy: 78.06166318634075\n"
     ]
    }
   ],
   "source": [
    "from sklearn.tree import DecisionTreeClassifier\n",
    "dtr=DecisionTreeClassifier()\n",
    "dtr.fit(X_train,y_train)\n",
    "dtr.fit(X_train,y_train)\n",
    "pred_dt=dtr.predict(X_test)\n",
    "con_dtr=confusion_matrix(y_test,pred_dt)\n",
    "print(\"The confusion matrix of decision tree is \\n\",con_dtr)\n",
    "ac_dt=accuracy_score(y_test,pred_dt)\n",
    "print('Accuracy:',ac_dt*100)"
   ]
  },
  {
   "cell_type": "code",
   "execution_count": 59,
   "id": "a73513b8",
   "metadata": {},
   "outputs": [
    {
     "name": "stdout",
     "output_type": "stream",
     "text": [
      "              precision    recall  f1-score   support\n",
      "\n",
      "       <=50K       0.85      0.86      0.86      6181\n",
      "        >50K       0.55      0.53      0.54      1960\n",
      "\n",
      "    accuracy                           0.78      8141\n",
      "   macro avg       0.70      0.69      0.70      8141\n",
      "weighted avg       0.78      0.78      0.78      8141\n",
      "\n"
     ]
    }
   ],
   "source": [
    "print(classification_report(y_test, pred_dt))"
   ]
  },
  {
   "cell_type": "markdown",
   "id": "bcbcae44",
   "metadata": {},
   "source": [
    "# 4)Support Vector Machine"
   ]
  },
  {
   "cell_type": "code",
   "execution_count": 60,
   "id": "16206e7d",
   "metadata": {},
   "outputs": [
    {
     "name": "stdout",
     "output_type": "stream",
     "text": [
      "The confusion matrix of decision tree is \n",
      " [[6181    0]\n",
      " [1960    0]]\n",
      "Accuracy: 75.92433361994841\n"
     ]
    }
   ],
   "source": [
    "from sklearn.svm import SVC\n",
    "svc=SVC()\n",
    "svc.fit(X_train,y_train)\n",
    "pred_svc=svc.predict(X_test)\n",
    "con_svc=confusion_matrix(y_test,pred_svc)\n",
    "print(\"The confusion matrix of decision tree is \\n\",con_svc)\n",
    "ac_svc=accuracy_score(y_test,pred_svc)\n",
    "print('Accuracy:',ac_svc*100)"
   ]
  },
  {
   "cell_type": "code",
   "execution_count": 61,
   "id": "bfed543d",
   "metadata": {},
   "outputs": [
    {
     "name": "stdout",
     "output_type": "stream",
     "text": [
      "              precision    recall  f1-score   support\n",
      "\n",
      "       <=50K       0.76      1.00      0.86      6181\n",
      "        >50K       0.00      0.00      0.00      1960\n",
      "\n",
      "    accuracy                           0.76      8141\n",
      "   macro avg       0.38      0.50      0.43      8141\n",
      "weighted avg       0.58      0.76      0.66      8141\n",
      "\n"
     ]
    }
   ],
   "source": [
    "print(classification_report(y_test, pred_svc))"
   ]
  },
  {
   "cell_type": "code",
   "execution_count": 62,
   "id": "b6256bdd",
   "metadata": {},
   "outputs": [
    {
     "data": {
      "text/plain": [
       "array(['<=50K', '<=50K', '<=50K', '<=50K', '<=50K', '<=50K', '<=50K',\n",
       "       '<=50K', '<=50K', '<=50K', '<=50K', '<=50K', '<=50K', '<=50K',\n",
       "       '<=50K', '<=50K', '<=50K', '<=50K', '<=50K', '<=50K', '<=50K',\n",
       "       '<=50K', '<=50K', '<=50K', '<=50K', '<=50K', '<=50K', '<=50K',\n",
       "       '<=50K', '<=50K', '<=50K', '<=50K', '<=50K', '<=50K', '<=50K',\n",
       "       '<=50K', '<=50K', '<=50K', '<=50K', '<=50K', '<=50K', '<=50K',\n",
       "       '<=50K', '<=50K', '<=50K', '<=50K', '<=50K', '<=50K', '<=50K',\n",
       "       '<=50K'], dtype=object)"
      ]
     },
     "execution_count": 62,
     "metadata": {},
     "output_type": "execute_result"
    }
   ],
   "source": [
    "pred_svc[:50]"
   ]
  },
  {
   "cell_type": "markdown",
   "id": "3c201371",
   "metadata": {},
   "source": [
    "# 5)Random Forest Classifier"
   ]
  },
  {
   "cell_type": "code",
   "execution_count": 63,
   "id": "553595fd",
   "metadata": {},
   "outputs": [
    {
     "name": "stdout",
     "output_type": "stream",
     "text": [
      "The confusion matrix of random forest is \n",
      " [[5532  649]\n",
      " [ 852 1108]]\n",
      "Accuracy: 81.56246161405232\n"
     ]
    }
   ],
   "source": [
    "from sklearn.ensemble import RandomForestClassifier\n",
    "rf=RandomForestClassifier()\n",
    "rf.fit(X_train,y_train)\n",
    "pred_RFC=rf.predict(X_test)\n",
    "con_rf=confusion_matrix(y_test,pred_RFC)\n",
    "print(\"The confusion matrix of random forest is \\n\",con_rf)\n",
    "ac_rf=accuracy_score(y_test,pred_RFC)\n",
    "print('Accuracy:',ac_rf*100)"
   ]
  },
  {
   "cell_type": "code",
   "execution_count": 64,
   "id": "c2fe62f8",
   "metadata": {},
   "outputs": [
    {
     "name": "stdout",
     "output_type": "stream",
     "text": [
      "              precision    recall  f1-score   support\n",
      "\n",
      "       <=50K       0.87      0.90      0.88      6181\n",
      "        >50K       0.63      0.57      0.60      1960\n",
      "\n",
      "    accuracy                           0.82      8141\n",
      "   macro avg       0.75      0.73      0.74      8141\n",
      "weighted avg       0.81      0.82      0.81      8141\n",
      "\n"
     ]
    }
   ],
   "source": [
    "print(classification_report(y_test, pred_RFC))\n",
    "     "
   ]
  },
  {
   "cell_type": "markdown",
   "id": "6cc9d0f0",
   "metadata": {},
   "source": [
    "# 6) GradientBoostingClassifier\n",
    "\n"
   ]
  },
  {
   "cell_type": "code",
   "execution_count": 65,
   "id": "2a24b4f5",
   "metadata": {},
   "outputs": [
    {
     "name": "stdout",
     "output_type": "stream",
     "text": [
      "Classification_report is\n",
      "              precision    recall  f1-score   support\n",
      "\n",
      "       <=50K       0.87      0.92      0.90      6181\n",
      "        >50K       0.71      0.57      0.63      1960\n",
      "\n",
      "    accuracy                           0.84      8141\n",
      "   macro avg       0.79      0.75      0.77      8141\n",
      "weighted avg       0.83      0.84      0.83      8141\n",
      "\n"
     ]
    }
   ],
   "source": [
    "from sklearn.ensemble import GradientBoostingClassifier\n",
    "gb = GradientBoostingClassifier()\n",
    "gb.fit(X_train,y_train)\n",
    "pred_gb = gb.predict(X_test)\n",
    "\n",
    "print('Classification_report is')\n",
    "print(classification_report(y_test,pred_gb))\n"
   ]
  },
  {
   "cell_type": "code",
   "execution_count": 66,
   "id": "b4dee94f",
   "metadata": {},
   "outputs": [
    {
     "name": "stdout",
     "output_type": "stream",
     "text": [
      "[[5713  468]\n",
      " [ 833 1127]]\n",
      "Accuracy: 84.019162265078\n"
     ]
    }
   ],
   "source": [
    "print(confusion_matrix(y_test,pred_gb))\n",
    "ac_gb=accuracy_score(y_test,pred_gb)\n",
    "print('Accuracy:',ac_gb*100)"
   ]
  },
  {
   "cell_type": "markdown",
   "id": "40747715",
   "metadata": {},
   "source": [
    "# 7) Naive_bayes Classifier"
   ]
  },
  {
   "cell_type": "code",
   "execution_count": 67,
   "id": "459fee7f",
   "metadata": {},
   "outputs": [
    {
     "name": "stdout",
     "output_type": "stream",
     "text": [
      "Classification report is\n",
      "              precision    recall  f1-score   support\n",
      "\n",
      "       <=50K       0.89      0.78      0.83      6181\n",
      "        >50K       0.50      0.69      0.58      1960\n",
      "\n",
      "    accuracy                           0.76      8141\n",
      "   macro avg       0.69      0.74      0.71      8141\n",
      "weighted avg       0.79      0.76      0.77      8141\n",
      "\n"
     ]
    }
   ],
   "source": [
    "from sklearn.naive_bayes import GaussianNB\n",
    "#Create a Gaussian Classifier\n",
    "model = GaussianNB()\n",
    "gnb = model.fit(X_train,y_train)\n",
    "pred_nb = gnb.predict(X_test)\n",
    "print('Classification report is')\n",
    "\n",
    "print(classification_report(y_test,pred_nb))\n"
   ]
  },
  {
   "cell_type": "code",
   "execution_count": 68,
   "id": "9a5b0704",
   "metadata": {},
   "outputs": [
    {
     "name": "stdout",
     "output_type": "stream",
     "text": [
      "[[4824 1357]\n",
      " [ 606 1354]]\n",
      "Accuracy: 75.88748311018303\n"
     ]
    }
   ],
   "source": [
    "print(confusion_matrix(y_test,pred_nb))\n",
    "ac_nb=accuracy_score(y_test,pred_nb)\n",
    "print('Accuracy:',ac_nb*100)"
   ]
  },
  {
   "cell_type": "markdown",
   "id": "610f16d2",
   "metadata": {},
   "source": [
    "#    Comparisaon of accuracies of different models "
   ]
  },
  {
   "cell_type": "code",
   "execution_count": 69,
   "id": "df59a994",
   "metadata": {},
   "outputs": [
    {
     "name": "stdout",
     "output_type": "stream",
     "text": [
      "The accuracy of Logistic Regression is: 76.80874585431765\n",
      "The accuracy of KNN is: 81.79584817589976\n",
      "The accuracy of Decision tree is: 78.06166318634075\n",
      "The accuracy of SVM is: 75.92433361994841\n",
      "The accuracy of Random forest  is: 81.56246161405232\n",
      "The accuracy of GradientBoostingClassifier is: 84.019162265078\n",
      "The accuracy of Naive_bayes  is: 75.88748311018303\n"
     ]
    }
   ],
   "source": [
    "print(\"The accuracy of Logistic Regression is:\",ac_lr*100)\n",
    "print(\"The accuracy of KNN is:\",ac_knn*100)\n",
    "print(\"The accuracy of Decision tree is:\",ac_dt*100)\n",
    "print(\"The accuracy of SVM is:\",ac_svc*100)\n",
    "print(\"The accuracy of Random forest  is:\",ac_rf*100)\n",
    "print(\"The accuracy of GradientBoostingClassifier is:\",ac_gb*100)\n",
    "print(\"The accuracy of Naive_bayes  is:\",ac_nb*100)\n",
    "\n"
   ]
  },
  {
   "cell_type": "code",
   "execution_count": 70,
   "id": "33809fe3",
   "metadata": {},
   "outputs": [
    {
     "data": {
      "text/html": [
       "<div>\n",
       "<style scoped>\n",
       "    .dataframe tbody tr th:only-of-type {\n",
       "        vertical-align: middle;\n",
       "    }\n",
       "\n",
       "    .dataframe tbody tr th {\n",
       "        vertical-align: top;\n",
       "    }\n",
       "\n",
       "    .dataframe thead th {\n",
       "        text-align: right;\n",
       "    }\n",
       "</style>\n",
       "<table border=\"1\" class=\"dataframe\">\n",
       "  <thead>\n",
       "    <tr style=\"text-align: right;\">\n",
       "      <th></th>\n",
       "      <th>Accuracy Score</th>\n",
       "    </tr>\n",
       "  </thead>\n",
       "  <tbody>\n",
       "    <tr>\n",
       "      <th>Gradient booster</th>\n",
       "      <td>84.019162</td>\n",
       "    </tr>\n",
       "    <tr>\n",
       "      <th>KNN</th>\n",
       "      <td>81.795848</td>\n",
       "    </tr>\n",
       "    <tr>\n",
       "      <th>Random Forest</th>\n",
       "      <td>81.562462</td>\n",
       "    </tr>\n",
       "    <tr>\n",
       "      <th>Decision Tree</th>\n",
       "      <td>78.061663</td>\n",
       "    </tr>\n",
       "    <tr>\n",
       "      <th>Logistic Regression</th>\n",
       "      <td>76.808746</td>\n",
       "    </tr>\n",
       "    <tr>\n",
       "      <th>SVM</th>\n",
       "      <td>75.924334</td>\n",
       "    </tr>\n",
       "    <tr>\n",
       "      <th>Naive_bayees</th>\n",
       "      <td>75.887483</td>\n",
       "    </tr>\n",
       "  </tbody>\n",
       "</table>\n",
       "</div>"
      ],
      "text/plain": [
       "                     Accuracy Score\n",
       "Gradient booster          84.019162\n",
       "KNN                       81.795848\n",
       "Random Forest             81.562462\n",
       "Decision Tree             78.061663\n",
       "Logistic Regression       76.808746\n",
       "SVM                       75.924334\n",
       "Naive_bayees              75.887483"
      ]
     },
     "execution_count": 70,
     "metadata": {},
     "output_type": "execute_result"
    }
   ],
   "source": [
    "models = [ 'Logistic Regression','KNN','SVM','Decision Tree','Random Forest', 'Gradient booster','Naive_bayees']\n",
    "data = [ac_lr*100,ac_knn*100 ,ac_svc*100,ac_dt*100,ac_rf*100,ac_gb*100,ac_nb*100]\n",
    "cols = ['Accuracy Score']\n",
    "pd.DataFrame(data=data , index= models , columns= cols).sort_values(by=['Accuracy Score'], ascending= False)\n",
    "\n"
   ]
  },
  {
   "cell_type": "code",
   "execution_count": 71,
   "id": "ab9de2c6",
   "metadata": {},
   "outputs": [
    {
     "data": {
      "image/png": "[encoded data removed]",
      "text/plain": [
       "<Figure size 640x480 with 1 Axes>"
      ]
     },
     "metadata": {},
     "output_type": "display_data"
    }
   ],
   "source": [
    "#plot the accuracies\n",
    "plt.plot(models,data,'o-')\n",
    "plt.xlabel(\"Models\")\n",
    "plt.ylabel('Accuracy scores')\n",
    "plt.legend(cols)\n",
    "plt.xticks(rotation=90)\n",
    "plt.grid()\n",
    "plt.show()"
   ]
  },
  {
   "cell_type": "markdown",
   "id": "79280e40",
   "metadata": {},
   "source": [
    "Gradient Booster  gives best accuracy compared to other supervised learning algorithms.\n",
    "For salary prediction,gradient booster is selected."
   ]
  },
  {
   "cell_type": "code",
   "execution_count": 72,
   "id": "3d6b33cf",
   "metadata": {},
   "outputs": [
    {
     "data": {
      "text/html": [
       "<div>\n",
       "<style scoped>\n",
       "    .dataframe tbody tr th:only-of-type {\n",
       "        vertical-align: middle;\n",
       "    }\n",
       "\n",
       "    .dataframe tbody tr th {\n",
       "        vertical-align: top;\n",
       "    }\n",
       "\n",
       "    .dataframe thead th {\n",
       "        text-align: right;\n",
       "    }\n",
       "</style>\n",
       "<table border=\"1\" class=\"dataframe\">\n",
       "  <thead>\n",
       "    <tr style=\"text-align: right;\">\n",
       "      <th></th>\n",
       "      <th>age</th>\n",
       "      <th>workclass</th>\n",
       "      <th>education</th>\n",
       "      <th>marital-status</th>\n",
       "      <th>occupation</th>\n",
       "      <th>relationship</th>\n",
       "      <th>race</th>\n",
       "      <th>sex</th>\n",
       "      <th>hours-per-week</th>\n",
       "      <th>native-country</th>\n",
       "      <th>salary</th>\n",
       "    </tr>\n",
       "  </thead>\n",
       "  <tbody>\n",
       "    <tr>\n",
       "      <th>0</th>\n",
       "      <td>0.032782</td>\n",
       "      <td>6</td>\n",
       "      <td>9</td>\n",
       "      <td>4</td>\n",
       "      <td>0</td>\n",
       "      <td>1</td>\n",
       "      <td>4</td>\n",
       "      <td>1</td>\n",
       "      <td>-0.194354</td>\n",
       "      <td>38</td>\n",
       "      <td>&lt;=50K</td>\n",
       "    </tr>\n",
       "    <tr>\n",
       "      <th>1</th>\n",
       "      <td>0.844236</td>\n",
       "      <td>5</td>\n",
       "      <td>9</td>\n",
       "      <td>2</td>\n",
       "      <td>3</td>\n",
       "      <td>0</td>\n",
       "      <td>4</td>\n",
       "      <td>1</td>\n",
       "      <td>-1.406591</td>\n",
       "      <td>38</td>\n",
       "      <td>&lt;=50K</td>\n",
       "    </tr>\n",
       "    <tr>\n",
       "      <th>2</th>\n",
       "      <td>-0.040986</td>\n",
       "      <td>3</td>\n",
       "      <td>11</td>\n",
       "      <td>0</td>\n",
       "      <td>5</td>\n",
       "      <td>1</td>\n",
       "      <td>4</td>\n",
       "      <td>1</td>\n",
       "      <td>-0.194354</td>\n",
       "      <td>38</td>\n",
       "      <td>&lt;=50K</td>\n",
       "    </tr>\n",
       "    <tr>\n",
       "      <th>3</th>\n",
       "      <td>1.065541</td>\n",
       "      <td>3</td>\n",
       "      <td>1</td>\n",
       "      <td>2</td>\n",
       "      <td>5</td>\n",
       "      <td>0</td>\n",
       "      <td>2</td>\n",
       "      <td>1</td>\n",
       "      <td>-0.194354</td>\n",
       "      <td>38</td>\n",
       "      <td>&lt;=50K</td>\n",
       "    </tr>\n",
       "    <tr>\n",
       "      <th>4</th>\n",
       "      <td>-0.778671</td>\n",
       "      <td>3</td>\n",
       "      <td>9</td>\n",
       "      <td>2</td>\n",
       "      <td>9</td>\n",
       "      <td>5</td>\n",
       "      <td>2</td>\n",
       "      <td>0</td>\n",
       "      <td>-0.194354</td>\n",
       "      <td>4</td>\n",
       "      <td>&lt;=50K</td>\n",
       "    </tr>\n",
       "    <tr>\n",
       "      <th>...</th>\n",
       "      <td>...</td>\n",
       "      <td>...</td>\n",
       "      <td>...</td>\n",
       "      <td>...</td>\n",
       "      <td>...</td>\n",
       "      <td>...</td>\n",
       "      <td>...</td>\n",
       "      <td>...</td>\n",
       "      <td>...</td>\n",
       "      <td>...</td>\n",
       "      <td>...</td>\n",
       "    </tr>\n",
       "    <tr>\n",
       "      <th>32556</th>\n",
       "      <td>-0.852440</td>\n",
       "      <td>3</td>\n",
       "      <td>7</td>\n",
       "      <td>2</td>\n",
       "      <td>12</td>\n",
       "      <td>5</td>\n",
       "      <td>4</td>\n",
       "      <td>0</td>\n",
       "      <td>-0.517617</td>\n",
       "      <td>38</td>\n",
       "      <td>&lt;=50K</td>\n",
       "    </tr>\n",
       "    <tr>\n",
       "      <th>32557</th>\n",
       "      <td>0.106551</td>\n",
       "      <td>3</td>\n",
       "      <td>11</td>\n",
       "      <td>2</td>\n",
       "      <td>6</td>\n",
       "      <td>0</td>\n",
       "      <td>4</td>\n",
       "      <td>1</td>\n",
       "      <td>-0.194354</td>\n",
       "      <td>38</td>\n",
       "      <td>&gt;50K</td>\n",
       "    </tr>\n",
       "    <tr>\n",
       "      <th>32558</th>\n",
       "      <td>1.434384</td>\n",
       "      <td>3</td>\n",
       "      <td>11</td>\n",
       "      <td>6</td>\n",
       "      <td>0</td>\n",
       "      <td>4</td>\n",
       "      <td>4</td>\n",
       "      <td>0</td>\n",
       "      <td>-0.194354</td>\n",
       "      <td>38</td>\n",
       "      <td>&lt;=50K</td>\n",
       "    </tr>\n",
       "    <tr>\n",
       "      <th>32559</th>\n",
       "      <td>-1.221282</td>\n",
       "      <td>3</td>\n",
       "      <td>11</td>\n",
       "      <td>4</td>\n",
       "      <td>0</td>\n",
       "      <td>3</td>\n",
       "      <td>4</td>\n",
       "      <td>1</td>\n",
       "      <td>-1.406591</td>\n",
       "      <td>38</td>\n",
       "      <td>&lt;=50K</td>\n",
       "    </tr>\n",
       "    <tr>\n",
       "      <th>32560</th>\n",
       "      <td>0.991773</td>\n",
       "      <td>4</td>\n",
       "      <td>11</td>\n",
       "      <td>2</td>\n",
       "      <td>3</td>\n",
       "      <td>5</td>\n",
       "      <td>4</td>\n",
       "      <td>0</td>\n",
       "      <td>-0.194354</td>\n",
       "      <td>38</td>\n",
       "      <td>&gt;50K</td>\n",
       "    </tr>\n",
       "  </tbody>\n",
       "</table>\n",
       "<p>32561 rows × 11 columns</p>\n",
       "</div>"
      ],
      "text/plain": [
       "            age  workclass  education  marital-status  occupation  \\\n",
       "0      0.032782          6          9               4           0   \n",
       "1      0.844236          5          9               2           3   \n",
       "2     -0.040986          3         11               0           5   \n",
       "3      1.065541          3          1               2           5   \n",
       "4     -0.778671          3          9               2           9   \n",
       "...         ...        ...        ...             ...         ...   \n",
       "32556 -0.852440          3          7               2          12   \n",
       "32557  0.106551          3         11               2           6   \n",
       "32558  1.434384          3         11               6           0   \n",
       "32559 -1.221282          3         11               4           0   \n",
       "32560  0.991773          4         11               2           3   \n",
       "\n",
       "       relationship  race  sex  hours-per-week  native-country salary  \n",
       "0                 1     4    1       -0.194354              38  <=50K  \n",
       "1                 0     4    1       -1.406591              38  <=50K  \n",
       "2                 1     4    1       -0.194354              38  <=50K  \n",
       "3                 0     2    1       -0.194354              38  <=50K  \n",
       "4                 5     2    0       -0.194354               4  <=50K  \n",
       "...             ...   ...  ...             ...             ...    ...  \n",
       "32556             5     4    0       -0.517617              38  <=50K  \n",
       "32557             0     4    1       -0.194354              38   >50K  \n",
       "32558             4     4    0       -0.194354              38  <=50K  \n",
       "32559             3     4    1       -1.406591              38  <=50K  \n",
       "32560             5     4    0       -0.194354              38   >50K  \n",
       "\n",
       "[32561 rows x 11 columns]"
      ]
     },
     "execution_count": 72,
     "metadata": {},
     "output_type": "execute_result"
    }
   ],
   "source": [
    "ds"
   ]
  },
  {
   "cell_type": "markdown",
   "id": "c2a0e34d",
   "metadata": {},
   "source": [
    "# Save the model"
   ]
  },
  {
   "cell_type": "code",
   "execution_count": 73,
   "id": "58543ee1",
   "metadata": {},
   "outputs": [],
   "source": [
    "# \n",
    "import pickle\n",
    "filename = 'model.pkl'\n",
    "pickle.dump(gb, open(filename, 'wb'))"
   ]
  },
  {
   "cell_type": "code",
   "execution_count": 74,
   "id": "0a31f421",
   "metadata": {},
   "outputs": [],
   "source": [
    "load_model = pickle.load(open(filename,'rb'))"
   ]
  },
  {
   "cell_type": "markdown",
   "id": "2660688a",
   "metadata": {},
   "source": [
    "# Predicting the model"
   ]
  },
  {
   "cell_type": "code",
   "execution_count": 75,
   "id": "fb5a596b",
   "metadata": {},
   "outputs": [
    {
     "data": {
      "text/plain": [
       "array(['>50K'], dtype=object)"
      ]
     },
     "execution_count": 75,
     "metadata": {},
     "output_type": "execute_result"
    }
   ],
   "source": [
    "load_model.predict([[.03,4,11,4,3,5,4,0,0.1,34]])"
   ]
  },
  {
   "cell_type": "code",
   "execution_count": 76,
   "id": "cbb42ef3",
   "metadata": {},
   "outputs": [
    {
     "data": {
      "text/plain": [
       "array(['>50K'], dtype=object)"
      ]
     },
     "execution_count": 76,
     "metadata": {},
     "output_type": "execute_result"
    }
   ],
   "source": [
    "load_model.predict([[33,4,11,4,3,0,4,1,30,34]])"
   ]
  },
  {
   "cell_type": "code",
   "execution_count": 77,
   "id": "5c50cd1a",
   "metadata": {},
   "outputs": [
    {
     "data": {
      "text/plain": [
       "array(['<=50K'], dtype=object)"
      ]
     },
     "execution_count": 77,
     "metadata": {},
     "output_type": "execute_result"
    }
   ],
   "source": [
    "load_model.predict([[.99,11,4,2,3,5,4,0,-0.19,38]])"
   ]
  },
  {
   "cell_type": "code",
   "execution_count": 78,
   "id": "bd5d666a",
   "metadata": {},
   "outputs": [
    {
     "data": {
      "text/plain": [
       "array(['<=50K'], dtype=object)"
      ]
     },
     "execution_count": 78,
     "metadata": {},
     "output_type": "execute_result"
    }
   ],
   "source": [
    "load_model.predict([[50,3,11,6,4,4,4,0,32,9]])"
   ]
  }
 ],
 "metadata": {
  "kernelspec": {
   "display_name": "Python 3 (ipykernel)",
   "language": "python",
   "name": "python3"
  },
  "language_info": {
   "codemirror_mode": {
    "name": "ipython",
    "version": 3
   },
   "file_extension": ".py",
   "mimetype": "text/x-python",
   "name": "python",
   "nbconvert_exporter": "python",
   "pygments_lexer": "ipython3",
   "version": "3.9.13"
  }
 },
 "nbformat": 4,
 "nbformat_minor": 5
}
